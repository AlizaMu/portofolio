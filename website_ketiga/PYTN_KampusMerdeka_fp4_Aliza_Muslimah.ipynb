{
 "cells": [
  {
   "cell_type": "markdown",
   "id": "208e4906",
   "metadata": {
    "id": "208e4906"
   },
   "source": [
    "# Final Project 4\n",
    "Authors and Creators:\n",
    "\n",
    "  1. Aliza Muslimah\n",
    "  2. Padmadi Cahyo Wibowo\n",
    "  3. Tegar Ahmad Arsy"
   ]
  },
  {
   "cell_type": "markdown",
   "id": "25842b9c",
   "metadata": {
    "id": "25842b9c"
   },
   "source": [
    "## Objektif\n",
    "Final Project 4 ini dibuat guna mengevaluasi konsep Clustering sebagai berikut:\n",
    "\n",
    "1. Mampu memahami konsep Clustering dengan menggunakan Scikit-Learn\n",
    "2. Mampu mempersiapkan data untuk digunakan dalam Clustering\n",
    "3. Mampu mengimplementasikan Clustering pada data yang diberikan"
   ]
  },
  {
   "cell_type": "markdown",
   "id": "73be0d06",
   "metadata": {
    "id": "73be0d06"
   },
   "source": [
    "## **Perkenalan**\n",
    "\n",
    "\n",
    "\n",
    "Bab pengenalan harus diisi dengan latar belakang memilih kasus, data yang\n",
    "digunakan (jumlah data, kelas, sumber), dan objective yang ingin dicapai."
   ]
  },
  {
   "cell_type": "markdown",
   "id": "38320f28",
   "metadata": {
    "id": "38320f28"
   },
   "source": [
    "1. Latar belakang memilih kasus\n",
    "Ingin melakukan clustering masa berlaku kartu kredit nasabah.\n",
    "\n",
    "2. Data penelitian\n",
    "Data ini bernama Credit Card Dataset yang diperoleh dari https://www.kaggle.com/datasets/arjunbhasin2013/ccdata . Data ini digunakan untuk melakukan clustering masa berlaku kartu kredit nasabah. Data ini adalah data perilaku penggunaan sekitar 9000 pemegang kartu kredit aktif selama 6 bulan terakhir. Jumlah dataset ini adalah 8.950 baris data dengan 18 atribut.\n",
    "Atribut yang menjadi label kelas yaitu masa_berlaku_kartu_kredit yang berisi masa berlakunya kartu dalam hitungan bulan.\n",
    "\n",
    "Nama, penjelasannya, serta tipe data dari atribut yang terdapat pada datasets, adalah sebagai berikut:\n",
    "\n",
    "Attribute Information:\n",
    "\n",
    "  1. CUSTID - Identification of Credit Card holder (Categorical)\n",
    "  2. BALANCE - Balance amount left in their account to make purchases (\n",
    "  3. BALANCEFREQUENCY - How frequently the Balance is updated, score between 0\n",
    "  and 1 (1 = frequently updated, 0 = not frequently updated)\n",
    "  4. PURCHASES - Amount of purchases made from account\n",
    "  5. ONEOFFPURCHASES - Maximum purchase amount done in one-go\n",
    "  6. INSTALLMENTSPURCHASES - Amount of purchase done in installment\n",
    "  7. CASHADVANCE - Cash in advance given by the user\n",
    "  8. PURCHASESFREQUENCY - How frequently the Purchases are being made, score\n",
    "  between 0 and 1 (1 = frequently purchased, 0 = not frequently purchased)\n",
    "  9. ONEOFFPURCHASESFREQUENCY - How frequently Purchases are happening in\n",
    "  one-go (1 = frequently purchased, 0 = not frequently purchased)\n",
    "  10. PURCHASESINSTALLMENTSFREQUENCY - How frequently purchases in\n",
    "  installments are being done (1 = frequently done, 0 = not frequently done)\n",
    "  11. CASHADVANCEFREQUENCY - How frequently the cash in advance being paid\n",
    "  12. CASHADVANCETRX - Number of Transactions made with \"Cash in Advance\"\n",
    "  13. PURCHASESTRX - Number of purchase transactions made\n",
    "  14. CREDITLIMIT - Limit of Credit Card for user\n",
    "  15. PAYMENTS - Amount of Payment done by user\n",
    "  16. MINIMUM_PAYMENTS - Minimum amount of payments made by user\n",
    "  17. PRCFULLPAYMENT - Percent of full payment paid by user\n",
    "  18. TENURE - Tenure of credit card service for user\n",
    "\n",
    "3. Objective yang ingin dicapai\n",
    "\n",
    "model ini diharapkan agar mengetahui masa berlaku kartu kredit."
   ]
  },
  {
   "cell_type": "markdown",
   "id": "6ef245c4",
   "metadata": {
    "id": "6ef245c4"
   },
   "source": [
    "## Install dan Import Pustaka yang dibutuhkan"
   ]
  },
  {
   "cell_type": "code",
   "execution_count": 1,
   "id": "7805ef7b",
   "metadata": {
    "id": "7805ef7b"
   },
   "outputs": [],
   "source": [
    "'''Pustaka untuk pengolahan data'''\n",
    "import pandas as pd\n",
    "import numpy as np\n",
    "from scipy import stats\n",
    "\n",
    "\n",
    "'''Pustaka untuk proses machine learning dan data science'''\n",
    "# Preprocessing\n",
    "from sklearn import preprocessing\n",
    "from sklearn.preprocessing import OrdinalEncoder, LabelEncoder #ordinal encoding untuk atribut kategorikal\n",
    "from sklearn.preprocessing import MinMaxScaler,StandardScaler #scaler for normalization \n",
    "from sklearn.preprocessing import OneHotEncoder #one hot encoding nominal atribut\n",
    "from sklearn.feature_selection import SelectKBest, f_classif\n",
    "from sklearn.impute import SimpleImputer\n",
    "\n",
    "# Chi-Square and Mutual Information feature selection for numeric input and categorical output\n",
    "from sklearn.feature_selection import mutual_info_classif\n",
    "\n",
    "# splitting dataset and kfold\n",
    "from sklearn.model_selection import train_test_split,KFold, cross_val_score, GridSearchCV\n",
    "\n",
    "# dimensionality reduction\n",
    "from sklearn.decomposition import PCA\n",
    "\n",
    "# modelling\n",
    "from sklearn import svm\n",
    "from sklearn.svm import SVC\n",
    "from sklearn.linear_model import LogisticRegression\n",
    "\n",
    "# model performance\n",
    "from sklearn import metrics\n",
    "from sklearn.metrics import classification_report, accuracy_score, confusion_matrix, plot_confusion_matrix, r2_score, mean_squared_error\n",
    "from sklearn.linear_model import Lasso\n",
    "from sklearn.tree import DecisionTreeRegressor\n",
    "from sklearn.model_selection import GridSearchCV,ShuffleSplit\n",
    "\n",
    "\n",
    "'''Pustaka untuk Visualisasi'''\n",
    "import matplotlib.pyplot as plt\n",
    "import seaborn as sns\n",
    "\n",
    "%matplotlib inline\n",
    "\n",
    "\n",
    "'''Pustaka Pendukung'''\n",
    "# save models\n",
    "import pickle\n",
    "\n"
   ]
  },
  {
   "cell_type": "markdown",
   "id": "d1d02d69",
   "metadata": {
    "id": "d1d02d69"
   },
   "source": [
    "## Data Loading\n",
    "Bagian ini berisi proses data loading yang kemudian dilanjutkan dengan explorasi data secara sederhana."
   ]
  },
  {
   "cell_type": "code",
   "execution_count": 2,
   "id": "a3aa50ec",
   "metadata": {
    "id": "a3aa50ec"
   },
   "outputs": [],
   "source": [
    "# Loading data dengan Pandas \n",
    "df = pd.read_csv('CC GENERAL.csv', skipinitialspace=True)"
   ]
  },
  {
   "cell_type": "code",
   "execution_count": 3,
   "id": "3d8a0d1c",
   "metadata": {
    "colab": {
     "base_uri": "https://localhost:8080/",
     "height": 488
    },
    "id": "3d8a0d1c",
    "outputId": "dd4e0c5d-f9d3-4645-c62a-d0b1e29c0650",
    "scrolled": false
   },
   "outputs": [
    {
     "data": {
      "text/html": [
       "<div>\n",
       "<style scoped>\n",
       "    .dataframe tbody tr th:only-of-type {\n",
       "        vertical-align: middle;\n",
       "    }\n",
       "\n",
       "    .dataframe tbody tr th {\n",
       "        vertical-align: top;\n",
       "    }\n",
       "\n",
       "    .dataframe thead th {\n",
       "        text-align: right;\n",
       "    }\n",
       "</style>\n",
       "<table border=\"1\" class=\"dataframe\">\n",
       "  <thead>\n",
       "    <tr style=\"text-align: right;\">\n",
       "      <th></th>\n",
       "      <th>CUST_ID</th>\n",
       "      <th>BALANCE</th>\n",
       "      <th>BALANCE_FREQUENCY</th>\n",
       "      <th>PURCHASES</th>\n",
       "      <th>ONEOFF_PURCHASES</th>\n",
       "      <th>INSTALLMENTS_PURCHASES</th>\n",
       "      <th>CASH_ADVANCE</th>\n",
       "      <th>PURCHASES_FREQUENCY</th>\n",
       "      <th>ONEOFF_PURCHASES_FREQUENCY</th>\n",
       "      <th>PURCHASES_INSTALLMENTS_FREQUENCY</th>\n",
       "      <th>CASH_ADVANCE_FREQUENCY</th>\n",
       "      <th>CASH_ADVANCE_TRX</th>\n",
       "      <th>PURCHASES_TRX</th>\n",
       "      <th>CREDIT_LIMIT</th>\n",
       "      <th>PAYMENTS</th>\n",
       "      <th>MINIMUM_PAYMENTS</th>\n",
       "      <th>PRC_FULL_PAYMENT</th>\n",
       "      <th>TENURE</th>\n",
       "    </tr>\n",
       "  </thead>\n",
       "  <tbody>\n",
       "    <tr>\n",
       "      <th>0</th>\n",
       "      <td>C10001</td>\n",
       "      <td>40.900749</td>\n",
       "      <td>0.818182</td>\n",
       "      <td>95.40</td>\n",
       "      <td>0.00</td>\n",
       "      <td>95.40</td>\n",
       "      <td>0.000000</td>\n",
       "      <td>0.166667</td>\n",
       "      <td>0.000000</td>\n",
       "      <td>0.083333</td>\n",
       "      <td>0.000000</td>\n",
       "      <td>0</td>\n",
       "      <td>2</td>\n",
       "      <td>1000.0</td>\n",
       "      <td>201.802084</td>\n",
       "      <td>139.509787</td>\n",
       "      <td>0.000000</td>\n",
       "      <td>12</td>\n",
       "    </tr>\n",
       "    <tr>\n",
       "      <th>1</th>\n",
       "      <td>C10002</td>\n",
       "      <td>3202.467416</td>\n",
       "      <td>0.909091</td>\n",
       "      <td>0.00</td>\n",
       "      <td>0.00</td>\n",
       "      <td>0.00</td>\n",
       "      <td>6442.945483</td>\n",
       "      <td>0.000000</td>\n",
       "      <td>0.000000</td>\n",
       "      <td>0.000000</td>\n",
       "      <td>0.250000</td>\n",
       "      <td>4</td>\n",
       "      <td>0</td>\n",
       "      <td>7000.0</td>\n",
       "      <td>4103.032597</td>\n",
       "      <td>1072.340217</td>\n",
       "      <td>0.222222</td>\n",
       "      <td>12</td>\n",
       "    </tr>\n",
       "    <tr>\n",
       "      <th>2</th>\n",
       "      <td>C10003</td>\n",
       "      <td>2495.148862</td>\n",
       "      <td>1.000000</td>\n",
       "      <td>773.17</td>\n",
       "      <td>773.17</td>\n",
       "      <td>0.00</td>\n",
       "      <td>0.000000</td>\n",
       "      <td>1.000000</td>\n",
       "      <td>1.000000</td>\n",
       "      <td>0.000000</td>\n",
       "      <td>0.000000</td>\n",
       "      <td>0</td>\n",
       "      <td>12</td>\n",
       "      <td>7500.0</td>\n",
       "      <td>622.066742</td>\n",
       "      <td>627.284787</td>\n",
       "      <td>0.000000</td>\n",
       "      <td>12</td>\n",
       "    </tr>\n",
       "    <tr>\n",
       "      <th>3</th>\n",
       "      <td>C10004</td>\n",
       "      <td>1666.670542</td>\n",
       "      <td>0.636364</td>\n",
       "      <td>1499.00</td>\n",
       "      <td>1499.00</td>\n",
       "      <td>0.00</td>\n",
       "      <td>205.788017</td>\n",
       "      <td>0.083333</td>\n",
       "      <td>0.083333</td>\n",
       "      <td>0.000000</td>\n",
       "      <td>0.083333</td>\n",
       "      <td>1</td>\n",
       "      <td>1</td>\n",
       "      <td>7500.0</td>\n",
       "      <td>0.000000</td>\n",
       "      <td>NaN</td>\n",
       "      <td>0.000000</td>\n",
       "      <td>12</td>\n",
       "    </tr>\n",
       "    <tr>\n",
       "      <th>4</th>\n",
       "      <td>C10005</td>\n",
       "      <td>817.714335</td>\n",
       "      <td>1.000000</td>\n",
       "      <td>16.00</td>\n",
       "      <td>16.00</td>\n",
       "      <td>0.00</td>\n",
       "      <td>0.000000</td>\n",
       "      <td>0.083333</td>\n",
       "      <td>0.083333</td>\n",
       "      <td>0.000000</td>\n",
       "      <td>0.000000</td>\n",
       "      <td>0</td>\n",
       "      <td>1</td>\n",
       "      <td>1200.0</td>\n",
       "      <td>678.334763</td>\n",
       "      <td>244.791237</td>\n",
       "      <td>0.000000</td>\n",
       "      <td>12</td>\n",
       "    </tr>\n",
       "    <tr>\n",
       "      <th>...</th>\n",
       "      <td>...</td>\n",
       "      <td>...</td>\n",
       "      <td>...</td>\n",
       "      <td>...</td>\n",
       "      <td>...</td>\n",
       "      <td>...</td>\n",
       "      <td>...</td>\n",
       "      <td>...</td>\n",
       "      <td>...</td>\n",
       "      <td>...</td>\n",
       "      <td>...</td>\n",
       "      <td>...</td>\n",
       "      <td>...</td>\n",
       "      <td>...</td>\n",
       "      <td>...</td>\n",
       "      <td>...</td>\n",
       "      <td>...</td>\n",
       "      <td>...</td>\n",
       "    </tr>\n",
       "    <tr>\n",
       "      <th>8945</th>\n",
       "      <td>C19186</td>\n",
       "      <td>28.493517</td>\n",
       "      <td>1.000000</td>\n",
       "      <td>291.12</td>\n",
       "      <td>0.00</td>\n",
       "      <td>291.12</td>\n",
       "      <td>0.000000</td>\n",
       "      <td>1.000000</td>\n",
       "      <td>0.000000</td>\n",
       "      <td>0.833333</td>\n",
       "      <td>0.000000</td>\n",
       "      <td>0</td>\n",
       "      <td>6</td>\n",
       "      <td>1000.0</td>\n",
       "      <td>325.594462</td>\n",
       "      <td>48.886365</td>\n",
       "      <td>0.500000</td>\n",
       "      <td>6</td>\n",
       "    </tr>\n",
       "    <tr>\n",
       "      <th>8946</th>\n",
       "      <td>C19187</td>\n",
       "      <td>19.183215</td>\n",
       "      <td>1.000000</td>\n",
       "      <td>300.00</td>\n",
       "      <td>0.00</td>\n",
       "      <td>300.00</td>\n",
       "      <td>0.000000</td>\n",
       "      <td>1.000000</td>\n",
       "      <td>0.000000</td>\n",
       "      <td>0.833333</td>\n",
       "      <td>0.000000</td>\n",
       "      <td>0</td>\n",
       "      <td>6</td>\n",
       "      <td>1000.0</td>\n",
       "      <td>275.861322</td>\n",
       "      <td>NaN</td>\n",
       "      <td>0.000000</td>\n",
       "      <td>6</td>\n",
       "    </tr>\n",
       "    <tr>\n",
       "      <th>8947</th>\n",
       "      <td>C19188</td>\n",
       "      <td>23.398673</td>\n",
       "      <td>0.833333</td>\n",
       "      <td>144.40</td>\n",
       "      <td>0.00</td>\n",
       "      <td>144.40</td>\n",
       "      <td>0.000000</td>\n",
       "      <td>0.833333</td>\n",
       "      <td>0.000000</td>\n",
       "      <td>0.666667</td>\n",
       "      <td>0.000000</td>\n",
       "      <td>0</td>\n",
       "      <td>5</td>\n",
       "      <td>1000.0</td>\n",
       "      <td>81.270775</td>\n",
       "      <td>82.418369</td>\n",
       "      <td>0.250000</td>\n",
       "      <td>6</td>\n",
       "    </tr>\n",
       "    <tr>\n",
       "      <th>8948</th>\n",
       "      <td>C19189</td>\n",
       "      <td>13.457564</td>\n",
       "      <td>0.833333</td>\n",
       "      <td>0.00</td>\n",
       "      <td>0.00</td>\n",
       "      <td>0.00</td>\n",
       "      <td>36.558778</td>\n",
       "      <td>0.000000</td>\n",
       "      <td>0.000000</td>\n",
       "      <td>0.000000</td>\n",
       "      <td>0.166667</td>\n",
       "      <td>2</td>\n",
       "      <td>0</td>\n",
       "      <td>500.0</td>\n",
       "      <td>52.549959</td>\n",
       "      <td>55.755628</td>\n",
       "      <td>0.250000</td>\n",
       "      <td>6</td>\n",
       "    </tr>\n",
       "    <tr>\n",
       "      <th>8949</th>\n",
       "      <td>C19190</td>\n",
       "      <td>372.708075</td>\n",
       "      <td>0.666667</td>\n",
       "      <td>1093.25</td>\n",
       "      <td>1093.25</td>\n",
       "      <td>0.00</td>\n",
       "      <td>127.040008</td>\n",
       "      <td>0.666667</td>\n",
       "      <td>0.666667</td>\n",
       "      <td>0.000000</td>\n",
       "      <td>0.333333</td>\n",
       "      <td>2</td>\n",
       "      <td>23</td>\n",
       "      <td>1200.0</td>\n",
       "      <td>63.165404</td>\n",
       "      <td>88.288956</td>\n",
       "      <td>0.000000</td>\n",
       "      <td>6</td>\n",
       "    </tr>\n",
       "  </tbody>\n",
       "</table>\n",
       "<p>8950 rows × 18 columns</p>\n",
       "</div>"
      ],
      "text/plain": [
       "     CUST_ID      BALANCE  BALANCE_FREQUENCY  PURCHASES  ONEOFF_PURCHASES  \\\n",
       "0     C10001    40.900749           0.818182      95.40              0.00   \n",
       "1     C10002  3202.467416           0.909091       0.00              0.00   \n",
       "2     C10003  2495.148862           1.000000     773.17            773.17   \n",
       "3     C10004  1666.670542           0.636364    1499.00           1499.00   \n",
       "4     C10005   817.714335           1.000000      16.00             16.00   \n",
       "...      ...          ...                ...        ...               ...   \n",
       "8945  C19186    28.493517           1.000000     291.12              0.00   \n",
       "8946  C19187    19.183215           1.000000     300.00              0.00   \n",
       "8947  C19188    23.398673           0.833333     144.40              0.00   \n",
       "8948  C19189    13.457564           0.833333       0.00              0.00   \n",
       "8949  C19190   372.708075           0.666667    1093.25           1093.25   \n",
       "\n",
       "      INSTALLMENTS_PURCHASES  CASH_ADVANCE  PURCHASES_FREQUENCY  \\\n",
       "0                      95.40      0.000000             0.166667   \n",
       "1                       0.00   6442.945483             0.000000   \n",
       "2                       0.00      0.000000             1.000000   \n",
       "3                       0.00    205.788017             0.083333   \n",
       "4                       0.00      0.000000             0.083333   \n",
       "...                      ...           ...                  ...   \n",
       "8945                  291.12      0.000000             1.000000   \n",
       "8946                  300.00      0.000000             1.000000   \n",
       "8947                  144.40      0.000000             0.833333   \n",
       "8948                    0.00     36.558778             0.000000   \n",
       "8949                    0.00    127.040008             0.666667   \n",
       "\n",
       "      ONEOFF_PURCHASES_FREQUENCY  PURCHASES_INSTALLMENTS_FREQUENCY  \\\n",
       "0                       0.000000                          0.083333   \n",
       "1                       0.000000                          0.000000   \n",
       "2                       1.000000                          0.000000   \n",
       "3                       0.083333                          0.000000   \n",
       "4                       0.083333                          0.000000   \n",
       "...                          ...                               ...   \n",
       "8945                    0.000000                          0.833333   \n",
       "8946                    0.000000                          0.833333   \n",
       "8947                    0.000000                          0.666667   \n",
       "8948                    0.000000                          0.000000   \n",
       "8949                    0.666667                          0.000000   \n",
       "\n",
       "      CASH_ADVANCE_FREQUENCY  CASH_ADVANCE_TRX  PURCHASES_TRX  CREDIT_LIMIT  \\\n",
       "0                   0.000000                 0              2        1000.0   \n",
       "1                   0.250000                 4              0        7000.0   \n",
       "2                   0.000000                 0             12        7500.0   \n",
       "3                   0.083333                 1              1        7500.0   \n",
       "4                   0.000000                 0              1        1200.0   \n",
       "...                      ...               ...            ...           ...   \n",
       "8945                0.000000                 0              6        1000.0   \n",
       "8946                0.000000                 0              6        1000.0   \n",
       "8947                0.000000                 0              5        1000.0   \n",
       "8948                0.166667                 2              0         500.0   \n",
       "8949                0.333333                 2             23        1200.0   \n",
       "\n",
       "         PAYMENTS  MINIMUM_PAYMENTS  PRC_FULL_PAYMENT  TENURE  \n",
       "0      201.802084        139.509787          0.000000      12  \n",
       "1     4103.032597       1072.340217          0.222222      12  \n",
       "2      622.066742        627.284787          0.000000      12  \n",
       "3        0.000000               NaN          0.000000      12  \n",
       "4      678.334763        244.791237          0.000000      12  \n",
       "...           ...               ...               ...     ...  \n",
       "8945   325.594462         48.886365          0.500000       6  \n",
       "8946   275.861322               NaN          0.000000       6  \n",
       "8947    81.270775         82.418369          0.250000       6  \n",
       "8948    52.549959         55.755628          0.250000       6  \n",
       "8949    63.165404         88.288956          0.000000       6  \n",
       "\n",
       "[8950 rows x 18 columns]"
      ]
     },
     "execution_count": 3,
     "metadata": {},
     "output_type": "execute_result"
    }
   ],
   "source": [
    "# Menampilkan sekilas isi data\n",
    "df"
   ]
  },
  {
   "cell_type": "code",
   "execution_count": 4,
   "id": "8ebe603f",
   "metadata": {
    "colab": {
     "base_uri": "https://localhost:8080/"
    },
    "id": "8ebe603f",
    "outputId": "7e6f2a56-38f2-424d-e445-a61fc227006e"
   },
   "outputs": [
    {
     "data": {
      "text/plain": [
       "(8950, 18)"
      ]
     },
     "execution_count": 4,
     "metadata": {},
     "output_type": "execute_result"
    }
   ],
   "source": [
    "# Mengetahui dimensi data\n",
    "df.shape"
   ]
  },
  {
   "cell_type": "code",
   "execution_count": 5,
   "id": "5dadf677",
   "metadata": {
    "colab": {
     "base_uri": "https://localhost:8080/"
    },
    "id": "5dadf677",
    "outputId": "596c5802-80fa-4202-dcb6-784fc63c0d64",
    "scrolled": false
   },
   "outputs": [
    {
     "name": "stdout",
     "output_type": "stream",
     "text": [
      "['CUST_ID' 'BALANCE' 'BALANCE_FREQUENCY' 'PURCHASES' 'ONEOFF_PURCHASES'\n",
      " 'INSTALLMENTS_PURCHASES' 'CASH_ADVANCE' 'PURCHASES_FREQUENCY'\n",
      " 'ONEOFF_PURCHASES_FREQUENCY' 'PURCHASES_INSTALLMENTS_FREQUENCY'\n",
      " 'CASH_ADVANCE_FREQUENCY' 'CASH_ADVANCE_TRX' 'PURCHASES_TRX'\n",
      " 'CREDIT_LIMIT' 'PAYMENTS' 'MINIMUM_PAYMENTS' 'PRC_FULL_PAYMENT' 'TENURE']\n"
     ]
    }
   ],
   "source": [
    "# Mengetahui daftar kolom\n",
    "daftar_kolom = df.columns.values\n",
    "print(daftar_kolom)"
   ]
  },
  {
   "cell_type": "code",
   "execution_count": 6,
   "id": "68d142ab",
   "metadata": {
    "colab": {
     "base_uri": "https://localhost:8080/"
    },
    "id": "68d142ab",
    "outputId": "a4ca9ad6-fb57-4ebe-f187-9481b97413ea",
    "scrolled": true
   },
   "outputs": [
    {
     "name": "stdout",
     "output_type": "stream",
     "text": [
      "<class 'pandas.core.frame.DataFrame'>\n",
      "RangeIndex: 8950 entries, 0 to 8949\n",
      "Data columns (total 18 columns):\n",
      " #   Column                            Non-Null Count  Dtype  \n",
      "---  ------                            --------------  -----  \n",
      " 0   CUST_ID                           8950 non-null   object \n",
      " 1   BALANCE                           8950 non-null   float64\n",
      " 2   BALANCE_FREQUENCY                 8950 non-null   float64\n",
      " 3   PURCHASES                         8950 non-null   float64\n",
      " 4   ONEOFF_PURCHASES                  8950 non-null   float64\n",
      " 5   INSTALLMENTS_PURCHASES            8950 non-null   float64\n",
      " 6   CASH_ADVANCE                      8950 non-null   float64\n",
      " 7   PURCHASES_FREQUENCY               8950 non-null   float64\n",
      " 8   ONEOFF_PURCHASES_FREQUENCY        8950 non-null   float64\n",
      " 9   PURCHASES_INSTALLMENTS_FREQUENCY  8950 non-null   float64\n",
      " 10  CASH_ADVANCE_FREQUENCY            8950 non-null   float64\n",
      " 11  CASH_ADVANCE_TRX                  8950 non-null   int64  \n",
      " 12  PURCHASES_TRX                     8950 non-null   int64  \n",
      " 13  CREDIT_LIMIT                      8949 non-null   float64\n",
      " 14  PAYMENTS                          8950 non-null   float64\n",
      " 15  MINIMUM_PAYMENTS                  8637 non-null   float64\n",
      " 16  PRC_FULL_PAYMENT                  8950 non-null   float64\n",
      " 17  TENURE                            8950 non-null   int64  \n",
      "dtypes: float64(14), int64(3), object(1)\n",
      "memory usage: 1.2+ MB\n"
     ]
    }
   ],
   "source": [
    "# Meihat tipe data setiap kolom\n",
    "df.info()"
   ]
  },
  {
   "cell_type": "markdown",
   "id": "81d64734",
   "metadata": {
    "id": "81d64734"
   },
   "source": [
    "## Data Cleaning\n",
    "Bagian ini berisi proses penyiapan data berupa data cleaning sebelum\n",
    "dilakukan explorasi data lebih lanjut. Proses cleaning dapat berupa\n",
    "memberi nama baru untuk setiap kolom, mengisi missing values,\n",
    "menghapus kolom yang tidak dipakai, dan lain sebagainya. "
   ]
  },
  {
   "cell_type": "markdown",
   "id": "e6CcoS9WMkQr",
   "metadata": {
    "id": "e6CcoS9WMkQr"
   },
   "source": [
    "### Mengecek Missing Values"
   ]
  },
  {
   "cell_type": "code",
   "execution_count": 7,
   "id": "4a122334",
   "metadata": {
    "colab": {
     "base_uri": "https://localhost:8080/"
    },
    "id": "4a122334",
    "outputId": "b8b61f91-bba2-4cd8-91b5-f6f9d793de25"
   },
   "outputs": [
    {
     "data": {
      "text/plain": [
       "CUST_ID                               0\n",
       "PAYMENTS                              0\n",
       "PURCHASES_TRX                         0\n",
       "CASH_ADVANCE_TRX                      0\n",
       "CASH_ADVANCE_FREQUENCY                0\n",
       "PURCHASES_INSTALLMENTS_FREQUENCY      0\n",
       "PRC_FULL_PAYMENT                      0\n",
       "ONEOFF_PURCHASES_FREQUENCY            0\n",
       "CASH_ADVANCE                          0\n",
       "INSTALLMENTS_PURCHASES                0\n",
       "ONEOFF_PURCHASES                      0\n",
       "PURCHASES                             0\n",
       "BALANCE_FREQUENCY                     0\n",
       "BALANCE                               0\n",
       "PURCHASES_FREQUENCY                   0\n",
       "TENURE                                0\n",
       "CREDIT_LIMIT                          1\n",
       "MINIMUM_PAYMENTS                    313\n",
       "dtype: int64"
      ]
     },
     "execution_count": 7,
     "metadata": {},
     "output_type": "execute_result"
    }
   ],
   "source": [
    "#cek null values\n",
    "df.isnull().sum().sort_values() "
   ]
  },
  {
   "cell_type": "code",
   "execution_count": 8,
   "id": "qKZUqFMLG3CV",
   "metadata": {
    "colab": {
     "base_uri": "https://localhost:8080/"
    },
    "id": "qKZUqFMLG3CV",
    "outputId": "4cfcb47a-b401-4727-8883-ce154edfb649"
   },
   "outputs": [
    {
     "name": "stdout",
     "output_type": "stream",
     "text": [
      "Nilai unik atribut CUST_ID (8950 nilai)\n",
      "CUST_ID : ['C10001' 'C10002' 'C10003' ... 'C19188' 'C19189' 'C19190']\n",
      "\n",
      "Nilai unik atribut BALANCE (8871 nilai)\n",
      "BALANCE : [  40.900749 3202.467416 2495.148862 ...   23.398673   13.457564\n",
      "  372.708075]\n",
      "\n",
      "Nilai unik atribut BALANCE_FREQUENCY (43 nilai)\n",
      "BALANCE_FREQUENCY : [0.818182 0.909091 1.       0.636364 0.545455 0.875    0.454545 0.727273\n",
      " 0.5      0.888889 0.090909 0.272727 0.363636 0.       0.666667 0.75\n",
      " 0.857143 0.181818 0.333333 0.6      0.3      0.125    0.9      0.833333\n",
      " 0.8      0.2      0.777778 0.555556 0.25     0.142857 0.571429 0.4\n",
      " 0.444444 0.714286 0.222222 0.1      0.625    0.428571 0.111111 0.285714\n",
      " 0.7      0.375    0.166667]\n",
      "\n",
      "Nilai unik atribut PURCHASES (6203 nilai)\n",
      "PURCHASES : [  95.4     0.    773.17 ...  291.12  144.4  1093.25]\n",
      "\n",
      "Nilai unik atribut ONEOFF_PURCHASES (4014 nilai)\n",
      "ONEOFF_PURCHASES : [   0.    773.17 1499.   ...  734.4  1012.73 1093.25]\n",
      "\n",
      "Nilai unik atribut INSTALLMENTS_PURCHASES (4452 nilai)\n",
      "INSTALLMENTS_PURCHASES : [  95.4     0.   1333.28 ...  113.28  291.12  144.4 ]\n",
      "\n",
      "Nilai unik atribut CASH_ADVANCE (4323 nilai)\n",
      "CASH_ADVANCE : [   0.       6442.945483  205.788017 ... 8555.409326   36.558778\n",
      "  127.040008]\n",
      "\n",
      "Nilai unik atribut PURCHASES_FREQUENCY (47 nilai)\n",
      "PURCHASES_FREQUENCY : [0.166667 0.       1.       0.083333 0.666667 0.333333 0.25     0.75\n",
      " 0.5      0.416667 0.916667 0.583333 0.375    0.625    0.272727 0.833333\n",
      " 0.909091 0.111111 0.142857 0.090909 0.363636 0.1      0.875    0.125\n",
      " 0.818182 0.636364 0.2      0.8      0.3      0.9      0.285714 0.727273\n",
      " 0.181818 0.7      0.545455 0.888889 0.714286 0.454545 0.857143 0.555556\n",
      " 0.428571 0.4      0.571429 0.6      0.222222 0.777778 0.444444]\n",
      "\n",
      "Nilai unik atribut ONEOFF_PURCHASES_FREQUENCY (47 nilai)\n",
      "ONEOFF_PURCHASES_FREQUENCY : [0.       1.       0.083333 0.166667 0.25     0.916667 0.5      0.416667\n",
      " 0.333333 0.666667 0.375    0.583333 0.1      0.090909 0.833333 0.75\n",
      " 0.111111 0.142857 0.125    0.875    0.363636 0.2      0.818182 0.8\n",
      " 0.3      0.636364 0.181818 0.909091 0.285714 0.222222 0.727273 0.571429\n",
      " 0.6      0.272727 0.714286 0.545455 0.428571 0.444444 0.454545 0.625\n",
      " 0.777778 0.555556 0.7      0.9      0.4      0.857143 0.888889]\n",
      "\n",
      "Nilai unik atribut PURCHASES_INSTALLMENTS_FREQUENCY (47 nilai)\n",
      "PURCHASES_INSTALLMENTS_FREQUENCY : [0.083333 0.       0.583333 1.       0.25     0.916667 0.75     0.5\n",
      " 0.333333 0.666667 0.416667 0.166667 0.833333 0.4      0.181818 0.818182\n",
      " 0.272727 0.375    0.125    0.636364 0.545455 0.909091 0.888889 0.2\n",
      " 0.8      0.1      0.142857 0.857143 0.444444 0.454545 0.111111 0.6\n",
      " 0.555556 0.777778 0.3      0.9      0.363636 0.714286 0.875    0.222222\n",
      " 0.285714 0.7      0.727273 0.571429 0.090909 0.428571 0.625   ]\n",
      "\n",
      "Nilai unik atribut CASH_ADVANCE_FREQUENCY (54 nilai)\n",
      "CASH_ADVANCE_FREQUENCY : [0.       0.25     0.083333 0.166667 0.333333 0.363636 0.833333 0.5\n",
      " 0.727273 0.125    0.875    0.111111 0.416667 0.181818 0.545455 0.75\n",
      " 0.142857 0.583333 0.666667 0.222222 0.285714 0.909091 0.2      0.625\n",
      " 0.090909 0.4      1.       0.8      0.636364 0.3      0.916667 0.444444\n",
      " 1.25     0.1      0.428571 0.272727 0.555556 0.6      0.454545 1.166667\n",
      " 0.375    0.777778 0.714286 0.571429 0.857143 1.125    1.1      1.5\n",
      " 0.7      0.818182 0.9      0.888889 1.090909 1.142857]\n",
      "\n",
      "Nilai unik atribut CASH_ADVANCE_TRX (65 nilai)\n",
      "CASH_ADVANCE_TRX : [  0   4   1   3   6  13   5  16  10   2  11   7  12  37  27  23  21  14\n",
      "  40   8   9  26  15  18  28  24  20  17  22  31 123  52  51  62  19  25\n",
      "  30  29  53  45  43  42 107  38  56  39  32  33  50  34  63  36 110  47\n",
      "  48  71  35  93  80  44  61  46  49  69  41]\n",
      "\n",
      "Nilai unik atribut PURCHASES_TRX (173 nilai)\n",
      "PURCHASES_TRX : [  2   0  12   1   8  64   5   3   6  26  11   9  92  17  13  45  14  41\n",
      "  27  20  87  18   4  42  61  33   7  50  22  23  60  46  75  31  10  34\n",
      "  81  25  85 217  19  52 216  97  24  77 130  90  44  39  15  30  36 123\n",
      " 151  21 101  49  98  28  84  93  72  38  99  62  48  16  32  51  74  29\n",
      "  59  76  47 126 229  40 103 121 157 114  53  83  43  54 222  66 141  37\n",
      "  79  70  80 194 117 100 111  67 219  55 152 104 182  88  82  71  78  35\n",
      " 122 105 108  69 175 135  91  65  68 119  63 140 113 358  58 248 129  56\n",
      "  89  57 139 176 136 195  73 109 208 115 110 147 273 102 185 171 168 232\n",
      "  95  86 148 112 128 254 198 298 154 116 142 131 347 204 200  94 118 344\n",
      " 162 308 199 309  96 274 224 143 133 127 186]\n",
      "\n",
      "Nilai unik atribut CREDIT_LIMIT (205 nilai)\n",
      "CREDIT_LIMIT : [ 1000.        7000.        7500.        1200.        1800.\n",
      " 13500.        2300.       11000.        2000.        3000.\n",
      "  8000.        2500.       13000.        4000.       11250.\n",
      "  9000.        6000.        1700.       10500.        6900.\n",
      "  5000.        4500.        1500.        8500.        2400.\n",
      "  4200.        3300.       12000.        3500.        6500.\n",
      "  1600.        4150.        1850.        6250.        2250.\n",
      "  9500.       16500.        5700.        5500.       17000.\n",
      "  3200.       19000.        2800.       18000.       21500.\n",
      " 10000.       20000.        7900.       15000.       12500.\n",
      " 14000.        5300.         900.        6150.       11500.\n",
      " 23000.        2700.       14500.       19500.        1400.\n",
      "  2900.        1950.        7200.       10950.        2100.\n",
      "   500.       21000.        4800.        7300.       18500.\n",
      "  6550.        6200.        3150.       11800.       11300.\n",
      "  2750.       10300.        2850.       17500.       22500.\n",
      "  6750.       16000.        1750.       15500.        3800.\n",
      "  6600.        3650.        2600.        4600.        3350.\n",
      "  4300.        5250.       28000.        3600.       10200.\n",
      "   750.        7600.        2720.        2200.        7350.\n",
      "   300.        3750.        1900.       10400.        5200.\n",
      "  4350.        3050.        6700.       20500.        5750.\n",
      "  8300.        7950.        3100.        4050.        6300.\n",
      "  3666.666667   200.        9100.        3700.        7100.\n",
      "  4750.        3900.       10100.        1300.       19600.\n",
      " 10450.       11150.         600.        4700.         150.\n",
      "  3400.        1350.        5100.        7227.272727 13550.\n",
      "  9200.        6100.        2050.        6400.        4250.\n",
      " 14600.        8600.        3511.111111  5600.        6727.272727\n",
      " 13600.        8800.       11100.       12200.        8100.\n",
      "  8050.        4100.        5550.        4450.        5650.\n",
      "  8200.        5400.       25000.        9950.        1150.\n",
      "  6800.        4650.        7800.        2150.       22000.\n",
      "   400.        7700.        4400.        1050.         700.\n",
      "  5181.818182  4900.        1100.        2550.        2283.333333\n",
      " 30000.        9700.        9400.                nan  2725.\n",
      "   450.        8700.       12300.        7050.        1550.\n",
      "  9800.        5450.         800.        8954.545455  2950.\n",
      "  2450.        6850.        4950.        5900.        1250.\n",
      " 17150.        9600.          50.       10750.        1120.\n",
      " 13450.        3777.777778   650.        1450.        2350.\n",
      "  1833.333333]\n",
      "\n",
      "Nilai unik atribut PAYMENTS (8711 nilai)\n",
      "PAYMENTS : [ 201.802084 4103.032597  622.066742 ...   81.270775   52.549959\n",
      "   63.165404]\n",
      "\n",
      "Nilai unik atribut MINIMUM_PAYMENTS (8636 nilai)\n",
      "MINIMUM_PAYMENTS : [ 139.509787 1072.340217  627.284787 ...   82.418369   55.755628\n",
      "   88.288956]\n",
      "\n",
      "Nilai unik atribut PRC_FULL_PAYMENT (47 nilai)\n",
      "PRC_FULL_PAYMENT : [0.       0.222222 1.       0.25     0.083333 0.3      0.333333 0.166667\n",
      " 0.111111 0.916667 0.2      0.090909 0.454545 0.181818 0.444444 0.636364\n",
      " 0.5      0.75     0.142857 0.888889 0.545455 0.818182 0.363636 0.833333\n",
      " 0.666667 0.909091 0.1      0.583333 0.8      0.416667 0.4      0.125\n",
      " 0.714286 0.6      0.571429 0.375    0.9      0.285714 0.7      0.272727\n",
      " 0.777778 0.875    0.727273 0.428571 0.625    0.857143 0.555556]\n",
      "\n",
      "Nilai unik atribut TENURE (7 nilai)\n",
      "TENURE : [12  8 11  9 10  7  6]\n",
      "\n"
     ]
    }
   ],
   "source": [
    "#untuk menemukan missing value diluar format digunakan nilai unik yang ada pada kolom tersebut\n",
    "#cek missing values\n",
    "columns = df.columns \n",
    "for column in df[columns]:\n",
    "  print(\"Nilai unik atribut {} ({} nilai)\".format(column.upper(),df[column].nunique()))\n",
    "  print(f'{column} : {df[column].unique()}')\n",
    "  print()"
   ]
  },
  {
   "cell_type": "markdown",
   "id": "gXe08ObBRp2K",
   "metadata": {
    "id": "gXe08ObBRp2K"
   },
   "source": [
    "#### Mengisi Missing Values"
   ]
  },
  {
   "cell_type": "code",
   "execution_count": 9,
   "id": "QG7eI1_mRpaq",
   "metadata": {
    "id": "QG7eI1_mRpaq"
   },
   "outputs": [],
   "source": [
    "# Mengisi mssing values dengan nilai mediannya\n",
    "miss_cols = ['CREDIT_LIMIT', 'MINIMUM_PAYMENTS']\n",
    "for num_col in miss_cols: \n",
    "    df[num_col].fillna(df[num_col].median(),inplace=True)\n"
   ]
  },
  {
   "cell_type": "code",
   "execution_count": 10,
   "id": "otBhz2EsTwvJ",
   "metadata": {
    "colab": {
     "base_uri": "https://localhost:8080/"
    },
    "id": "otBhz2EsTwvJ",
    "outputId": "7d777634-a018-4232-f57e-0cdd76686686"
   },
   "outputs": [
    {
     "data": {
      "text/plain": [
       "CUST_ID                             0\n",
       "MINIMUM_PAYMENTS                    0\n",
       "PAYMENTS                            0\n",
       "CREDIT_LIMIT                        0\n",
       "PURCHASES_TRX                       0\n",
       "CASH_ADVANCE_TRX                    0\n",
       "CASH_ADVANCE_FREQUENCY              0\n",
       "PURCHASES_INSTALLMENTS_FREQUENCY    0\n",
       "ONEOFF_PURCHASES_FREQUENCY          0\n",
       "PURCHASES_FREQUENCY                 0\n",
       "CASH_ADVANCE                        0\n",
       "INSTALLMENTS_PURCHASES              0\n",
       "ONEOFF_PURCHASES                    0\n",
       "PURCHASES                           0\n",
       "BALANCE_FREQUENCY                   0\n",
       "BALANCE                             0\n",
       "PRC_FULL_PAYMENT                    0\n",
       "TENURE                              0\n",
       "dtype: int64"
      ]
     },
     "execution_count": 10,
     "metadata": {},
     "output_type": "execute_result"
    }
   ],
   "source": [
    "#cek null values setelah mengisi misssing values\n",
    "df.isnull().sum().sort_values() "
   ]
  },
  {
   "cell_type": "code",
   "execution_count": 11,
   "id": "18a3b707",
   "metadata": {
    "colab": {
     "base_uri": "https://localhost:8080/",
     "height": 0
    },
    "id": "18a3b707",
    "outputId": "0d299ea8-40e7-4349-db6a-d420946d365b"
   },
   "outputs": [
    {
     "data": {
      "text/html": [
       "<div>\n",
       "<style scoped>\n",
       "    .dataframe tbody tr th:only-of-type {\n",
       "        vertical-align: middle;\n",
       "    }\n",
       "\n",
       "    .dataframe tbody tr th {\n",
       "        vertical-align: top;\n",
       "    }\n",
       "\n",
       "    .dataframe thead th {\n",
       "        text-align: right;\n",
       "    }\n",
       "</style>\n",
       "<table border=\"1\" class=\"dataframe\">\n",
       "  <thead>\n",
       "    <tr style=\"text-align: right;\">\n",
       "      <th></th>\n",
       "      <th>BALANCE</th>\n",
       "      <th>BALANCE_FREQUENCY</th>\n",
       "      <th>PURCHASES</th>\n",
       "      <th>ONEOFF_PURCHASES</th>\n",
       "      <th>INSTALLMENTS_PURCHASES</th>\n",
       "      <th>CASH_ADVANCE</th>\n",
       "      <th>PURCHASES_FREQUENCY</th>\n",
       "      <th>ONEOFF_PURCHASES_FREQUENCY</th>\n",
       "      <th>PURCHASES_INSTALLMENTS_FREQUENCY</th>\n",
       "      <th>CASH_ADVANCE_FREQUENCY</th>\n",
       "      <th>CASH_ADVANCE_TRX</th>\n",
       "      <th>PURCHASES_TRX</th>\n",
       "      <th>CREDIT_LIMIT</th>\n",
       "      <th>PAYMENTS</th>\n",
       "      <th>MINIMUM_PAYMENTS</th>\n",
       "      <th>PRC_FULL_PAYMENT</th>\n",
       "      <th>TENURE</th>\n",
       "    </tr>\n",
       "  </thead>\n",
       "  <tbody>\n",
       "    <tr>\n",
       "      <th>count</th>\n",
       "      <td>8950.000000</td>\n",
       "      <td>8950.000000</td>\n",
       "      <td>8950.000000</td>\n",
       "      <td>8950.000000</td>\n",
       "      <td>8950.000000</td>\n",
       "      <td>8950.000000</td>\n",
       "      <td>8950.000000</td>\n",
       "      <td>8950.000000</td>\n",
       "      <td>8950.000000</td>\n",
       "      <td>8950.000000</td>\n",
       "      <td>8950.000000</td>\n",
       "      <td>8950.000000</td>\n",
       "      <td>8950.000000</td>\n",
       "      <td>8950.000000</td>\n",
       "      <td>8950.000000</td>\n",
       "      <td>8950.000000</td>\n",
       "      <td>8950.000000</td>\n",
       "    </tr>\n",
       "    <tr>\n",
       "      <th>mean</th>\n",
       "      <td>1564.474828</td>\n",
       "      <td>0.877271</td>\n",
       "      <td>1003.204834</td>\n",
       "      <td>592.437371</td>\n",
       "      <td>411.067645</td>\n",
       "      <td>978.871112</td>\n",
       "      <td>0.490351</td>\n",
       "      <td>0.202458</td>\n",
       "      <td>0.364437</td>\n",
       "      <td>0.135144</td>\n",
       "      <td>3.248827</td>\n",
       "      <td>14.709832</td>\n",
       "      <td>4494.282473</td>\n",
       "      <td>1733.143852</td>\n",
       "      <td>844.906767</td>\n",
       "      <td>0.153715</td>\n",
       "      <td>11.517318</td>\n",
       "    </tr>\n",
       "    <tr>\n",
       "      <th>std</th>\n",
       "      <td>2081.531879</td>\n",
       "      <td>0.236904</td>\n",
       "      <td>2136.634782</td>\n",
       "      <td>1659.887917</td>\n",
       "      <td>904.338115</td>\n",
       "      <td>2097.163877</td>\n",
       "      <td>0.401371</td>\n",
       "      <td>0.298336</td>\n",
       "      <td>0.397448</td>\n",
       "      <td>0.200121</td>\n",
       "      <td>6.824647</td>\n",
       "      <td>24.857649</td>\n",
       "      <td>3638.646702</td>\n",
       "      <td>2895.063757</td>\n",
       "      <td>2332.792322</td>\n",
       "      <td>0.292499</td>\n",
       "      <td>1.338331</td>\n",
       "    </tr>\n",
       "    <tr>\n",
       "      <th>min</th>\n",
       "      <td>0.000000</td>\n",
       "      <td>0.000000</td>\n",
       "      <td>0.000000</td>\n",
       "      <td>0.000000</td>\n",
       "      <td>0.000000</td>\n",
       "      <td>0.000000</td>\n",
       "      <td>0.000000</td>\n",
       "      <td>0.000000</td>\n",
       "      <td>0.000000</td>\n",
       "      <td>0.000000</td>\n",
       "      <td>0.000000</td>\n",
       "      <td>0.000000</td>\n",
       "      <td>50.000000</td>\n",
       "      <td>0.000000</td>\n",
       "      <td>0.019163</td>\n",
       "      <td>0.000000</td>\n",
       "      <td>6.000000</td>\n",
       "    </tr>\n",
       "    <tr>\n",
       "      <th>25%</th>\n",
       "      <td>128.281915</td>\n",
       "      <td>0.888889</td>\n",
       "      <td>39.635000</td>\n",
       "      <td>0.000000</td>\n",
       "      <td>0.000000</td>\n",
       "      <td>0.000000</td>\n",
       "      <td>0.083333</td>\n",
       "      <td>0.000000</td>\n",
       "      <td>0.000000</td>\n",
       "      <td>0.000000</td>\n",
       "      <td>0.000000</td>\n",
       "      <td>1.000000</td>\n",
       "      <td>1600.000000</td>\n",
       "      <td>383.276166</td>\n",
       "      <td>170.857654</td>\n",
       "      <td>0.000000</td>\n",
       "      <td>12.000000</td>\n",
       "    </tr>\n",
       "    <tr>\n",
       "      <th>50%</th>\n",
       "      <td>873.385231</td>\n",
       "      <td>1.000000</td>\n",
       "      <td>361.280000</td>\n",
       "      <td>38.000000</td>\n",
       "      <td>89.000000</td>\n",
       "      <td>0.000000</td>\n",
       "      <td>0.500000</td>\n",
       "      <td>0.083333</td>\n",
       "      <td>0.166667</td>\n",
       "      <td>0.000000</td>\n",
       "      <td>0.000000</td>\n",
       "      <td>7.000000</td>\n",
       "      <td>3000.000000</td>\n",
       "      <td>856.901546</td>\n",
       "      <td>312.343947</td>\n",
       "      <td>0.000000</td>\n",
       "      <td>12.000000</td>\n",
       "    </tr>\n",
       "    <tr>\n",
       "      <th>75%</th>\n",
       "      <td>2054.140036</td>\n",
       "      <td>1.000000</td>\n",
       "      <td>1110.130000</td>\n",
       "      <td>577.405000</td>\n",
       "      <td>468.637500</td>\n",
       "      <td>1113.821139</td>\n",
       "      <td>0.916667</td>\n",
       "      <td>0.300000</td>\n",
       "      <td>0.750000</td>\n",
       "      <td>0.222222</td>\n",
       "      <td>4.000000</td>\n",
       "      <td>17.000000</td>\n",
       "      <td>6500.000000</td>\n",
       "      <td>1901.134317</td>\n",
       "      <td>788.713501</td>\n",
       "      <td>0.142857</td>\n",
       "      <td>12.000000</td>\n",
       "    </tr>\n",
       "    <tr>\n",
       "      <th>max</th>\n",
       "      <td>19043.138560</td>\n",
       "      <td>1.000000</td>\n",
       "      <td>49039.570000</td>\n",
       "      <td>40761.250000</td>\n",
       "      <td>22500.000000</td>\n",
       "      <td>47137.211760</td>\n",
       "      <td>1.000000</td>\n",
       "      <td>1.000000</td>\n",
       "      <td>1.000000</td>\n",
       "      <td>1.500000</td>\n",
       "      <td>123.000000</td>\n",
       "      <td>358.000000</td>\n",
       "      <td>30000.000000</td>\n",
       "      <td>50721.483360</td>\n",
       "      <td>76406.207520</td>\n",
       "      <td>1.000000</td>\n",
       "      <td>12.000000</td>\n",
       "    </tr>\n",
       "  </tbody>\n",
       "</table>\n",
       "</div>"
      ],
      "text/plain": [
       "            BALANCE  BALANCE_FREQUENCY     PURCHASES  ONEOFF_PURCHASES  \\\n",
       "count   8950.000000        8950.000000   8950.000000       8950.000000   \n",
       "mean    1564.474828           0.877271   1003.204834        592.437371   \n",
       "std     2081.531879           0.236904   2136.634782       1659.887917   \n",
       "min        0.000000           0.000000      0.000000          0.000000   \n",
       "25%      128.281915           0.888889     39.635000          0.000000   \n",
       "50%      873.385231           1.000000    361.280000         38.000000   \n",
       "75%     2054.140036           1.000000   1110.130000        577.405000   \n",
       "max    19043.138560           1.000000  49039.570000      40761.250000   \n",
       "\n",
       "       INSTALLMENTS_PURCHASES  CASH_ADVANCE  PURCHASES_FREQUENCY  \\\n",
       "count             8950.000000   8950.000000          8950.000000   \n",
       "mean               411.067645    978.871112             0.490351   \n",
       "std                904.338115   2097.163877             0.401371   \n",
       "min                  0.000000      0.000000             0.000000   \n",
       "25%                  0.000000      0.000000             0.083333   \n",
       "50%                 89.000000      0.000000             0.500000   \n",
       "75%                468.637500   1113.821139             0.916667   \n",
       "max              22500.000000  47137.211760             1.000000   \n",
       "\n",
       "       ONEOFF_PURCHASES_FREQUENCY  PURCHASES_INSTALLMENTS_FREQUENCY  \\\n",
       "count                 8950.000000                       8950.000000   \n",
       "mean                     0.202458                          0.364437   \n",
       "std                      0.298336                          0.397448   \n",
       "min                      0.000000                          0.000000   \n",
       "25%                      0.000000                          0.000000   \n",
       "50%                      0.083333                          0.166667   \n",
       "75%                      0.300000                          0.750000   \n",
       "max                      1.000000                          1.000000   \n",
       "\n",
       "       CASH_ADVANCE_FREQUENCY  CASH_ADVANCE_TRX  PURCHASES_TRX  CREDIT_LIMIT  \\\n",
       "count             8950.000000       8950.000000    8950.000000   8950.000000   \n",
       "mean                 0.135144          3.248827      14.709832   4494.282473   \n",
       "std                  0.200121          6.824647      24.857649   3638.646702   \n",
       "min                  0.000000          0.000000       0.000000     50.000000   \n",
       "25%                  0.000000          0.000000       1.000000   1600.000000   \n",
       "50%                  0.000000          0.000000       7.000000   3000.000000   \n",
       "75%                  0.222222          4.000000      17.000000   6500.000000   \n",
       "max                  1.500000        123.000000     358.000000  30000.000000   \n",
       "\n",
       "           PAYMENTS  MINIMUM_PAYMENTS  PRC_FULL_PAYMENT       TENURE  \n",
       "count   8950.000000       8950.000000       8950.000000  8950.000000  \n",
       "mean    1733.143852        844.906767          0.153715    11.517318  \n",
       "std     2895.063757       2332.792322          0.292499     1.338331  \n",
       "min        0.000000          0.019163          0.000000     6.000000  \n",
       "25%      383.276166        170.857654          0.000000    12.000000  \n",
       "50%      856.901546        312.343947          0.000000    12.000000  \n",
       "75%     1901.134317        788.713501          0.142857    12.000000  \n",
       "max    50721.483360      76406.207520          1.000000    12.000000  "
      ]
     },
     "execution_count": 11,
     "metadata": {},
     "output_type": "execute_result"
    }
   ],
   "source": [
    "# Menghitung statistik deskriptif data \n",
    "df.describe()"
   ]
  },
  {
   "cell_type": "markdown",
   "id": "aa4fd831",
   "metadata": {
    "id": "aa4fd831"
   },
   "source": [
    "### **Merename nama kolom**"
   ]
  },
  {
   "cell_type": "code",
   "execution_count": 12,
   "id": "6dcb5840",
   "metadata": {
    "id": "6dcb5840"
   },
   "outputs": [],
   "source": [
    "# rename kolom dari datasets\n",
    "def rename_columns_df(df):\n",
    "    df = df.rename(\n",
    "        columns={\n",
    "            'CUST_ID':'id_customer',\n",
    "            'BALANCE':'saldo',\n",
    "            'BALANCE_FREQUENCY':'frekuensi_pembaruan_saldo',\n",
    "            'PURCHASES':'jumlah_pembelian',\n",
    "            'ONEOFF_PURCHASES':'jumlah_pembelian_maksimum_sekali_jalan',\n",
    "            'INSTALLMENTS_PURCHASES':'jumlah_pembelian_angsuran',\n",
    "            'CASH_ADVANCE':'uang_muka',\n",
    "            'PURCHASES_FREQUENCY':'frekuensi_pembelian',\n",
    "            'ONEOFF_PURCHASES_FREQUENCY':'jumlah_pembelian_sekali_jalan',\n",
    "            'PURCHASES_INSTALLMENTS_FREQUENCY':'frekuensi_pembelian_angsuran',\n",
    "            'CASH_ADVANCE_FREQUENCY':'frekuensi_uang_muka',\n",
    "            'CASH_ADVANCE_TRX':'jumlah_trx_dengan_uang_muka',\n",
    "            'PURCHASES_TRX':'jumlah_trx_pembelian',\n",
    "            'CREDIT_LIMIT':'limit_kredit',\n",
    "            'PAYMENTS':'jumlah_pembayaran',\n",
    "            'MINIMUM_PAYMENTS':'minimum_pembayaran',\n",
    "            'PRC_FULL_PAYMENT':'presentase_pembayaran_penuh',\n",
    "            'TENURE':'masa_berlaku_kartu_kredit'\n",
    "        },\n",
    "    )\n",
    "    return df\n"
   ]
  },
  {
   "cell_type": "code",
   "execution_count": 13,
   "id": "CKGWw4cw22hA",
   "metadata": {
    "colab": {
     "base_uri": "https://localhost:8080/",
     "height": 0
    },
    "id": "CKGWw4cw22hA",
    "outputId": "16f23882-a2ca-4e9a-ff36-c59dd6200042"
   },
   "outputs": [
    {
     "data": {
      "text/html": [
       "<div>\n",
       "<style scoped>\n",
       "    .dataframe tbody tr th:only-of-type {\n",
       "        vertical-align: middle;\n",
       "    }\n",
       "\n",
       "    .dataframe tbody tr th {\n",
       "        vertical-align: top;\n",
       "    }\n",
       "\n",
       "    .dataframe thead th {\n",
       "        text-align: right;\n",
       "    }\n",
       "</style>\n",
       "<table border=\"1\" class=\"dataframe\">\n",
       "  <thead>\n",
       "    <tr style=\"text-align: right;\">\n",
       "      <th></th>\n",
       "      <th>id_customer</th>\n",
       "      <th>saldo</th>\n",
       "      <th>frekuensi_pembaruan_saldo</th>\n",
       "      <th>jumlah_pembelian</th>\n",
       "      <th>jumlah_pembelian_maksimum_sekali_jalan</th>\n",
       "      <th>jumlah_pembelian_angsuran</th>\n",
       "      <th>uang_muka</th>\n",
       "      <th>frekuensi_pembelian</th>\n",
       "      <th>jumlah_pembelian_sekali_jalan</th>\n",
       "      <th>frekuensi_pembelian_angsuran</th>\n",
       "      <th>frekuensi_uang_muka</th>\n",
       "      <th>jumlah_trx_dengan_uang_muka</th>\n",
       "      <th>jumlah_trx_pembelian</th>\n",
       "      <th>limit_kredit</th>\n",
       "      <th>jumlah_pembayaran</th>\n",
       "      <th>minimum_pembayaran</th>\n",
       "      <th>presentase_pembayaran_penuh</th>\n",
       "      <th>masa_berlaku_kartu_kredit</th>\n",
       "    </tr>\n",
       "  </thead>\n",
       "  <tbody>\n",
       "    <tr>\n",
       "      <th>0</th>\n",
       "      <td>C10001</td>\n",
       "      <td>40.900749</td>\n",
       "      <td>0.818182</td>\n",
       "      <td>95.40</td>\n",
       "      <td>0.00</td>\n",
       "      <td>95.4</td>\n",
       "      <td>0.000000</td>\n",
       "      <td>0.166667</td>\n",
       "      <td>0.000000</td>\n",
       "      <td>0.083333</td>\n",
       "      <td>0.000000</td>\n",
       "      <td>0</td>\n",
       "      <td>2</td>\n",
       "      <td>1000.0</td>\n",
       "      <td>201.802084</td>\n",
       "      <td>139.509787</td>\n",
       "      <td>0.000000</td>\n",
       "      <td>12</td>\n",
       "    </tr>\n",
       "    <tr>\n",
       "      <th>1</th>\n",
       "      <td>C10002</td>\n",
       "      <td>3202.467416</td>\n",
       "      <td>0.909091</td>\n",
       "      <td>0.00</td>\n",
       "      <td>0.00</td>\n",
       "      <td>0.0</td>\n",
       "      <td>6442.945483</td>\n",
       "      <td>0.000000</td>\n",
       "      <td>0.000000</td>\n",
       "      <td>0.000000</td>\n",
       "      <td>0.250000</td>\n",
       "      <td>4</td>\n",
       "      <td>0</td>\n",
       "      <td>7000.0</td>\n",
       "      <td>4103.032597</td>\n",
       "      <td>1072.340217</td>\n",
       "      <td>0.222222</td>\n",
       "      <td>12</td>\n",
       "    </tr>\n",
       "    <tr>\n",
       "      <th>2</th>\n",
       "      <td>C10003</td>\n",
       "      <td>2495.148862</td>\n",
       "      <td>1.000000</td>\n",
       "      <td>773.17</td>\n",
       "      <td>773.17</td>\n",
       "      <td>0.0</td>\n",
       "      <td>0.000000</td>\n",
       "      <td>1.000000</td>\n",
       "      <td>1.000000</td>\n",
       "      <td>0.000000</td>\n",
       "      <td>0.000000</td>\n",
       "      <td>0</td>\n",
       "      <td>12</td>\n",
       "      <td>7500.0</td>\n",
       "      <td>622.066742</td>\n",
       "      <td>627.284787</td>\n",
       "      <td>0.000000</td>\n",
       "      <td>12</td>\n",
       "    </tr>\n",
       "    <tr>\n",
       "      <th>3</th>\n",
       "      <td>C10004</td>\n",
       "      <td>1666.670542</td>\n",
       "      <td>0.636364</td>\n",
       "      <td>1499.00</td>\n",
       "      <td>1499.00</td>\n",
       "      <td>0.0</td>\n",
       "      <td>205.788017</td>\n",
       "      <td>0.083333</td>\n",
       "      <td>0.083333</td>\n",
       "      <td>0.000000</td>\n",
       "      <td>0.083333</td>\n",
       "      <td>1</td>\n",
       "      <td>1</td>\n",
       "      <td>7500.0</td>\n",
       "      <td>0.000000</td>\n",
       "      <td>312.343947</td>\n",
       "      <td>0.000000</td>\n",
       "      <td>12</td>\n",
       "    </tr>\n",
       "    <tr>\n",
       "      <th>4</th>\n",
       "      <td>C10005</td>\n",
       "      <td>817.714335</td>\n",
       "      <td>1.000000</td>\n",
       "      <td>16.00</td>\n",
       "      <td>16.00</td>\n",
       "      <td>0.0</td>\n",
       "      <td>0.000000</td>\n",
       "      <td>0.083333</td>\n",
       "      <td>0.083333</td>\n",
       "      <td>0.000000</td>\n",
       "      <td>0.000000</td>\n",
       "      <td>0</td>\n",
       "      <td>1</td>\n",
       "      <td>1200.0</td>\n",
       "      <td>678.334763</td>\n",
       "      <td>244.791237</td>\n",
       "      <td>0.000000</td>\n",
       "      <td>12</td>\n",
       "    </tr>\n",
       "  </tbody>\n",
       "</table>\n",
       "</div>"
      ],
      "text/plain": [
       "  id_customer        saldo  frekuensi_pembaruan_saldo  jumlah_pembelian  \\\n",
       "0      C10001    40.900749                   0.818182             95.40   \n",
       "1      C10002  3202.467416                   0.909091              0.00   \n",
       "2      C10003  2495.148862                   1.000000            773.17   \n",
       "3      C10004  1666.670542                   0.636364           1499.00   \n",
       "4      C10005   817.714335                   1.000000             16.00   \n",
       "\n",
       "   jumlah_pembelian_maksimum_sekali_jalan  jumlah_pembelian_angsuran  \\\n",
       "0                                    0.00                       95.4   \n",
       "1                                    0.00                        0.0   \n",
       "2                                  773.17                        0.0   \n",
       "3                                 1499.00                        0.0   \n",
       "4                                   16.00                        0.0   \n",
       "\n",
       "     uang_muka  frekuensi_pembelian  jumlah_pembelian_sekali_jalan  \\\n",
       "0     0.000000             0.166667                       0.000000   \n",
       "1  6442.945483             0.000000                       0.000000   \n",
       "2     0.000000             1.000000                       1.000000   \n",
       "3   205.788017             0.083333                       0.083333   \n",
       "4     0.000000             0.083333                       0.083333   \n",
       "\n",
       "   frekuensi_pembelian_angsuran  frekuensi_uang_muka  \\\n",
       "0                      0.083333             0.000000   \n",
       "1                      0.000000             0.250000   \n",
       "2                      0.000000             0.000000   \n",
       "3                      0.000000             0.083333   \n",
       "4                      0.000000             0.000000   \n",
       "\n",
       "   jumlah_trx_dengan_uang_muka  jumlah_trx_pembelian  limit_kredit  \\\n",
       "0                            0                     2        1000.0   \n",
       "1                            4                     0        7000.0   \n",
       "2                            0                    12        7500.0   \n",
       "3                            1                     1        7500.0   \n",
       "4                            0                     1        1200.0   \n",
       "\n",
       "   jumlah_pembayaran  minimum_pembayaran  presentase_pembayaran_penuh  \\\n",
       "0         201.802084          139.509787                     0.000000   \n",
       "1        4103.032597         1072.340217                     0.222222   \n",
       "2         622.066742          627.284787                     0.000000   \n",
       "3           0.000000          312.343947                     0.000000   \n",
       "4         678.334763          244.791237                     0.000000   \n",
       "\n",
       "   masa_berlaku_kartu_kredit  \n",
       "0                         12  \n",
       "1                         12  \n",
       "2                         12  \n",
       "3                         12  \n",
       "4                         12  "
      ]
     },
     "execution_count": 13,
     "metadata": {},
     "output_type": "execute_result"
    }
   ],
   "source": [
    "# menampilkan 5 data teratas setelah nama kolom direname\n",
    "df_preclean = rename_columns_df(df)\n",
    "df_preclean.head()"
   ]
  },
  {
   "cell_type": "code",
   "execution_count": 14,
   "id": "khpiZVDF-Joo",
   "metadata": {
    "colab": {
     "base_uri": "https://localhost:8080/"
    },
    "id": "khpiZVDF-Joo",
    "outputId": "b35ef72d-4b1b-4402-cbf4-70f88d2bd1ab"
   },
   "outputs": [
    {
     "data": {
      "text/plain": [
       "Index(['id_customer', 'saldo', 'frekuensi_pembaruan_saldo', 'jumlah_pembelian',\n",
       "       'jumlah_pembelian_maksimum_sekali_jalan', 'jumlah_pembelian_angsuran',\n",
       "       'uang_muka', 'frekuensi_pembelian', 'jumlah_pembelian_sekali_jalan',\n",
       "       'frekuensi_pembelian_angsuran', 'frekuensi_uang_muka',\n",
       "       'jumlah_trx_dengan_uang_muka', 'jumlah_trx_pembelian', 'limit_kredit',\n",
       "       'jumlah_pembayaran', 'minimum_pembayaran',\n",
       "       'presentase_pembayaran_penuh', 'masa_berlaku_kartu_kredit'],\n",
       "      dtype='object')"
      ]
     },
     "execution_count": 14,
     "metadata": {},
     "output_type": "execute_result"
    }
   ],
   "source": [
    "# Melihat daftar kolom setelah di rename\n",
    "df_preclean.columns"
   ]
  },
  {
   "cell_type": "markdown",
   "id": "puV2QjIvnkUR",
   "metadata": {
    "id": "puV2QjIvnkUR"
   },
   "source": [
    "#### Menghapus kolom yang tidak dipakai"
   ]
  },
  {
   "cell_type": "code",
   "execution_count": 15,
   "id": "D_zhcuW3nikj",
   "metadata": {
    "id": "D_zhcuW3nikj"
   },
   "outputs": [],
   "source": [
    "# menghapus kolom 'id_customer' karena tidak dibutuhkan\n",
    "df_clean = df_preclean.drop('id_customer', axis=1)"
   ]
  },
  {
   "cell_type": "code",
   "execution_count": 16,
   "id": "D0da1U86onqS",
   "metadata": {
    "colab": {
     "base_uri": "https://localhost:8080/",
     "height": 0
    },
    "id": "D0da1U86onqS",
    "outputId": "09fc97b0-b084-49a1-d713-022b968cf861"
   },
   "outputs": [
    {
     "data": {
      "text/html": [
       "<div>\n",
       "<style scoped>\n",
       "    .dataframe tbody tr th:only-of-type {\n",
       "        vertical-align: middle;\n",
       "    }\n",
       "\n",
       "    .dataframe tbody tr th {\n",
       "        vertical-align: top;\n",
       "    }\n",
       "\n",
       "    .dataframe thead th {\n",
       "        text-align: right;\n",
       "    }\n",
       "</style>\n",
       "<table border=\"1\" class=\"dataframe\">\n",
       "  <thead>\n",
       "    <tr style=\"text-align: right;\">\n",
       "      <th></th>\n",
       "      <th>saldo</th>\n",
       "      <th>frekuensi_pembaruan_saldo</th>\n",
       "      <th>jumlah_pembelian</th>\n",
       "      <th>jumlah_pembelian_maksimum_sekali_jalan</th>\n",
       "      <th>jumlah_pembelian_angsuran</th>\n",
       "      <th>uang_muka</th>\n",
       "      <th>frekuensi_pembelian</th>\n",
       "      <th>jumlah_pembelian_sekali_jalan</th>\n",
       "      <th>frekuensi_pembelian_angsuran</th>\n",
       "      <th>frekuensi_uang_muka</th>\n",
       "      <th>jumlah_trx_dengan_uang_muka</th>\n",
       "      <th>jumlah_trx_pembelian</th>\n",
       "      <th>limit_kredit</th>\n",
       "      <th>jumlah_pembayaran</th>\n",
       "      <th>minimum_pembayaran</th>\n",
       "      <th>presentase_pembayaran_penuh</th>\n",
       "      <th>masa_berlaku_kartu_kredit</th>\n",
       "    </tr>\n",
       "  </thead>\n",
       "  <tbody>\n",
       "    <tr>\n",
       "      <th>0</th>\n",
       "      <td>40.900749</td>\n",
       "      <td>0.818182</td>\n",
       "      <td>95.40</td>\n",
       "      <td>0.00</td>\n",
       "      <td>95.4</td>\n",
       "      <td>0.000000</td>\n",
       "      <td>0.166667</td>\n",
       "      <td>0.000000</td>\n",
       "      <td>0.083333</td>\n",
       "      <td>0.000000</td>\n",
       "      <td>0</td>\n",
       "      <td>2</td>\n",
       "      <td>1000.0</td>\n",
       "      <td>201.802084</td>\n",
       "      <td>139.509787</td>\n",
       "      <td>0.000000</td>\n",
       "      <td>12</td>\n",
       "    </tr>\n",
       "    <tr>\n",
       "      <th>1</th>\n",
       "      <td>3202.467416</td>\n",
       "      <td>0.909091</td>\n",
       "      <td>0.00</td>\n",
       "      <td>0.00</td>\n",
       "      <td>0.0</td>\n",
       "      <td>6442.945483</td>\n",
       "      <td>0.000000</td>\n",
       "      <td>0.000000</td>\n",
       "      <td>0.000000</td>\n",
       "      <td>0.250000</td>\n",
       "      <td>4</td>\n",
       "      <td>0</td>\n",
       "      <td>7000.0</td>\n",
       "      <td>4103.032597</td>\n",
       "      <td>1072.340217</td>\n",
       "      <td>0.222222</td>\n",
       "      <td>12</td>\n",
       "    </tr>\n",
       "    <tr>\n",
       "      <th>2</th>\n",
       "      <td>2495.148862</td>\n",
       "      <td>1.000000</td>\n",
       "      <td>773.17</td>\n",
       "      <td>773.17</td>\n",
       "      <td>0.0</td>\n",
       "      <td>0.000000</td>\n",
       "      <td>1.000000</td>\n",
       "      <td>1.000000</td>\n",
       "      <td>0.000000</td>\n",
       "      <td>0.000000</td>\n",
       "      <td>0</td>\n",
       "      <td>12</td>\n",
       "      <td>7500.0</td>\n",
       "      <td>622.066742</td>\n",
       "      <td>627.284787</td>\n",
       "      <td>0.000000</td>\n",
       "      <td>12</td>\n",
       "    </tr>\n",
       "    <tr>\n",
       "      <th>3</th>\n",
       "      <td>1666.670542</td>\n",
       "      <td>0.636364</td>\n",
       "      <td>1499.00</td>\n",
       "      <td>1499.00</td>\n",
       "      <td>0.0</td>\n",
       "      <td>205.788017</td>\n",
       "      <td>0.083333</td>\n",
       "      <td>0.083333</td>\n",
       "      <td>0.000000</td>\n",
       "      <td>0.083333</td>\n",
       "      <td>1</td>\n",
       "      <td>1</td>\n",
       "      <td>7500.0</td>\n",
       "      <td>0.000000</td>\n",
       "      <td>312.343947</td>\n",
       "      <td>0.000000</td>\n",
       "      <td>12</td>\n",
       "    </tr>\n",
       "    <tr>\n",
       "      <th>4</th>\n",
       "      <td>817.714335</td>\n",
       "      <td>1.000000</td>\n",
       "      <td>16.00</td>\n",
       "      <td>16.00</td>\n",
       "      <td>0.0</td>\n",
       "      <td>0.000000</td>\n",
       "      <td>0.083333</td>\n",
       "      <td>0.083333</td>\n",
       "      <td>0.000000</td>\n",
       "      <td>0.000000</td>\n",
       "      <td>0</td>\n",
       "      <td>1</td>\n",
       "      <td>1200.0</td>\n",
       "      <td>678.334763</td>\n",
       "      <td>244.791237</td>\n",
       "      <td>0.000000</td>\n",
       "      <td>12</td>\n",
       "    </tr>\n",
       "  </tbody>\n",
       "</table>\n",
       "</div>"
      ],
      "text/plain": [
       "         saldo  frekuensi_pembaruan_saldo  jumlah_pembelian  \\\n",
       "0    40.900749                   0.818182             95.40   \n",
       "1  3202.467416                   0.909091              0.00   \n",
       "2  2495.148862                   1.000000            773.17   \n",
       "3  1666.670542                   0.636364           1499.00   \n",
       "4   817.714335                   1.000000             16.00   \n",
       "\n",
       "   jumlah_pembelian_maksimum_sekali_jalan  jumlah_pembelian_angsuran  \\\n",
       "0                                    0.00                       95.4   \n",
       "1                                    0.00                        0.0   \n",
       "2                                  773.17                        0.0   \n",
       "3                                 1499.00                        0.0   \n",
       "4                                   16.00                        0.0   \n",
       "\n",
       "     uang_muka  frekuensi_pembelian  jumlah_pembelian_sekali_jalan  \\\n",
       "0     0.000000             0.166667                       0.000000   \n",
       "1  6442.945483             0.000000                       0.000000   \n",
       "2     0.000000             1.000000                       1.000000   \n",
       "3   205.788017             0.083333                       0.083333   \n",
       "4     0.000000             0.083333                       0.083333   \n",
       "\n",
       "   frekuensi_pembelian_angsuran  frekuensi_uang_muka  \\\n",
       "0                      0.083333             0.000000   \n",
       "1                      0.000000             0.250000   \n",
       "2                      0.000000             0.000000   \n",
       "3                      0.000000             0.083333   \n",
       "4                      0.000000             0.000000   \n",
       "\n",
       "   jumlah_trx_dengan_uang_muka  jumlah_trx_pembelian  limit_kredit  \\\n",
       "0                            0                     2        1000.0   \n",
       "1                            4                     0        7000.0   \n",
       "2                            0                    12        7500.0   \n",
       "3                            1                     1        7500.0   \n",
       "4                            0                     1        1200.0   \n",
       "\n",
       "   jumlah_pembayaran  minimum_pembayaran  presentase_pembayaran_penuh  \\\n",
       "0         201.802084          139.509787                     0.000000   \n",
       "1        4103.032597         1072.340217                     0.222222   \n",
       "2         622.066742          627.284787                     0.000000   \n",
       "3           0.000000          312.343947                     0.000000   \n",
       "4         678.334763          244.791237                     0.000000   \n",
       "\n",
       "   masa_berlaku_kartu_kredit  \n",
       "0                         12  \n",
       "1                         12  \n",
       "2                         12  \n",
       "3                         12  \n",
       "4                         12  "
      ]
     },
     "execution_count": 16,
     "metadata": {},
     "output_type": "execute_result"
    }
   ],
   "source": [
    "df_clean.head()"
   ]
  },
  {
   "cell_type": "markdown",
   "id": "344c0298",
   "metadata": {
    "id": "344c0298"
   },
   "source": [
    "## Eksplorasi Data\n",
    "Bagian ini berisi explorasi data pada dataset diatas dengan menggunakan\n",
    "query, grouping, visualisasi sederhana, dan lain sebagainya."
   ]
  },
  {
   "cell_type": "code",
   "execution_count": 17,
   "id": "A5xdDnT44PtM",
   "metadata": {
    "colab": {
     "base_uri": "https://localhost:8080/",
     "height": 81
    },
    "id": "A5xdDnT44PtM",
    "outputId": "28f455de-6203-4f8c-e95c-9bf9f11037df"
   },
   "outputs": [
    {
     "data": {
      "text/html": [
       "<div>\n",
       "<style scoped>\n",
       "    .dataframe tbody tr th:only-of-type {\n",
       "        vertical-align: middle;\n",
       "    }\n",
       "\n",
       "    .dataframe tbody tr th {\n",
       "        vertical-align: top;\n",
       "    }\n",
       "\n",
       "    .dataframe thead th {\n",
       "        text-align: right;\n",
       "    }\n",
       "</style>\n",
       "<table border=\"1\" class=\"dataframe\">\n",
       "  <thead>\n",
       "    <tr style=\"text-align: right;\">\n",
       "      <th></th>\n",
       "      <th>maks</th>\n",
       "      <th>min</th>\n",
       "    </tr>\n",
       "  </thead>\n",
       "  <tbody>\n",
       "    <tr>\n",
       "      <th>0</th>\n",
       "      <td>19043.13856</td>\n",
       "      <td>0.0</td>\n",
       "    </tr>\n",
       "  </tbody>\n",
       "</table>\n",
       "</div>"
      ],
      "text/plain": [
       "          maks  min\n",
       "0  19043.13856  0.0"
      ]
     },
     "execution_count": 17,
     "metadata": {},
     "output_type": "execute_result"
    }
   ],
   "source": [
    "#melihat saldo maksimal dan minimal \n",
    "saldo = [{'maks':df_preclean['saldo'].max(),'min': df_preclean['saldo'].min()}]\n",
    "dfsaldo = pd.DataFrame(saldo)\n",
    "dfsaldo"
   ]
  },
  {
   "cell_type": "markdown",
   "id": "YjNVeSFJBVut",
   "metadata": {
    "id": "YjNVeSFJBVut"
   },
   "source": [
    "Saldo maksimal pada dataframe tersebut adalah 19043.13856 dan minimalnya adalah 0"
   ]
  },
  {
   "cell_type": "markdown",
   "id": "JlLGWrt_8OER",
   "metadata": {
    "id": "JlLGWrt_8OER"
   },
   "source": [
    "### Feature Selection\n",
    "**Melihat korelasi atribut terhadap atribut target yaitu masa_berlaku_kartu_kredit**"
   ]
  },
  {
   "cell_type": "code",
   "execution_count": 18,
   "id": "4abf37f2",
   "metadata": {
    "id": "4abf37f2",
    "scrolled": true
   },
   "outputs": [],
   "source": [
    "#Memanggil fungsi corr() untuk mencari korelasi\n",
    "korelasi = df_clean.corr()"
   ]
  },
  {
   "cell_type": "code",
   "execution_count": 19,
   "id": "Yn3GudX08zCH",
   "metadata": {
    "colab": {
     "base_uri": "https://localhost:8080/",
     "height": 0
    },
    "id": "Yn3GudX08zCH",
    "outputId": "a3d88328-a384-4d32-a68e-6f7023a7016a"
   },
   "outputs": [
    {
     "data": {
      "image/png": "[encoded data removed]",
      "text/plain": [
       "<Figure size 864x576 with 2 Axes>"
      ]
     },
     "metadata": {
      "needs_background": "light"
     },
     "output_type": "display_data"
    }
   ],
   "source": [
    "#Visualisasi dari korelasi atribut\n",
    "plt.figure(figsize=(12,8))\n",
    "sns.heatmap(korelasi, cmap=\"RdBu_r\",annot=True)\n",
    "\n",
    "plt.title('Correlation between Variables')\n",
    "plt.show()\n",
    "\n"
   ]
  },
  {
   "cell_type": "markdown",
   "id": "-1mqjIsn910b",
   "metadata": {
    "id": "-1mqjIsn910b"
   },
   "source": [
    "**Dari heatmap diatas dapat diperoleh 5 teratas atribut yang berpengaruh terhadap atribut target. yaitu:**\n",
    "\n",
    "'frekuensi_pembaruan_saldo','jumlah_trx_pembelian', 'limit_kredit', 'jumlah_pembayaran','frekuensi_uang_muka'\n",
    "\n",
    "**Sehingga hanya 5 atribut tersebut yang digunakan**"
   ]
  },
  {
   "cell_type": "code",
   "execution_count": 20,
   "id": "-ecOYK6yATrB",
   "metadata": {
    "id": "-ecOYK6yATrB"
   },
   "outputs": [],
   "source": [
    "# menghapus semua atribut kecuali 5 atribut teratas dan atribut target\n",
    "df_eksplor = df_clean.copy()\n",
    "df_eksplor = df_eksplor[['frekuensi_pembaruan_saldo','jumlah_trx_pembelian','limit_kredit','jumlah_pembayaran','frekuensi_uang_muka','masa_berlaku_kartu_kredit']]\n"
   ]
  },
  {
   "cell_type": "code",
   "execution_count": 21,
   "id": "jh7r95mwDGdL",
   "metadata": {
    "colab": {
     "base_uri": "https://localhost:8080/",
     "height": 0
    },
    "id": "jh7r95mwDGdL",
    "outputId": "bbdf5b6f-f939-410a-cd64-e3da95af7c9e"
   },
   "outputs": [
    {
     "data": {
      "text/html": [
       "<div>\n",
       "<style scoped>\n",
       "    .dataframe tbody tr th:only-of-type {\n",
       "        vertical-align: middle;\n",
       "    }\n",
       "\n",
       "    .dataframe tbody tr th {\n",
       "        vertical-align: top;\n",
       "    }\n",
       "\n",
       "    .dataframe thead th {\n",
       "        text-align: right;\n",
       "    }\n",
       "</style>\n",
       "<table border=\"1\" class=\"dataframe\">\n",
       "  <thead>\n",
       "    <tr style=\"text-align: right;\">\n",
       "      <th></th>\n",
       "      <th>frekuensi_pembaruan_saldo</th>\n",
       "      <th>jumlah_trx_pembelian</th>\n",
       "      <th>limit_kredit</th>\n",
       "      <th>jumlah_pembayaran</th>\n",
       "      <th>frekuensi_uang_muka</th>\n",
       "      <th>masa_berlaku_kartu_kredit</th>\n",
       "    </tr>\n",
       "  </thead>\n",
       "  <tbody>\n",
       "    <tr>\n",
       "      <th>0</th>\n",
       "      <td>0.818182</td>\n",
       "      <td>2</td>\n",
       "      <td>1000.0</td>\n",
       "      <td>201.802084</td>\n",
       "      <td>0.000000</td>\n",
       "      <td>12</td>\n",
       "    </tr>\n",
       "    <tr>\n",
       "      <th>1</th>\n",
       "      <td>0.909091</td>\n",
       "      <td>0</td>\n",
       "      <td>7000.0</td>\n",
       "      <td>4103.032597</td>\n",
       "      <td>0.250000</td>\n",
       "      <td>12</td>\n",
       "    </tr>\n",
       "    <tr>\n",
       "      <th>2</th>\n",
       "      <td>1.000000</td>\n",
       "      <td>12</td>\n",
       "      <td>7500.0</td>\n",
       "      <td>622.066742</td>\n",
       "      <td>0.000000</td>\n",
       "      <td>12</td>\n",
       "    </tr>\n",
       "    <tr>\n",
       "      <th>3</th>\n",
       "      <td>0.636364</td>\n",
       "      <td>1</td>\n",
       "      <td>7500.0</td>\n",
       "      <td>0.000000</td>\n",
       "      <td>0.083333</td>\n",
       "      <td>12</td>\n",
       "    </tr>\n",
       "    <tr>\n",
       "      <th>4</th>\n",
       "      <td>1.000000</td>\n",
       "      <td>1</td>\n",
       "      <td>1200.0</td>\n",
       "      <td>678.334763</td>\n",
       "      <td>0.000000</td>\n",
       "      <td>12</td>\n",
       "    </tr>\n",
       "  </tbody>\n",
       "</table>\n",
       "</div>"
      ],
      "text/plain": [
       "   frekuensi_pembaruan_saldo  jumlah_trx_pembelian  limit_kredit  \\\n",
       "0                   0.818182                     2        1000.0   \n",
       "1                   0.909091                     0        7000.0   \n",
       "2                   1.000000                    12        7500.0   \n",
       "3                   0.636364                     1        7500.0   \n",
       "4                   1.000000                     1        1200.0   \n",
       "\n",
       "   jumlah_pembayaran  frekuensi_uang_muka  masa_berlaku_kartu_kredit  \n",
       "0         201.802084             0.000000                         12  \n",
       "1        4103.032597             0.250000                         12  \n",
       "2         622.066742             0.000000                         12  \n",
       "3           0.000000             0.083333                         12  \n",
       "4         678.334763             0.000000                         12  "
      ]
     },
     "execution_count": 21,
     "metadata": {},
     "output_type": "execute_result"
    }
   ],
   "source": [
    "df_eksplor.head()\n"
   ]
  },
  {
   "cell_type": "markdown",
   "id": "be0d266a",
   "metadata": {
    "id": "be0d266a"
   },
   "source": [
    "### Measure of central tendency"
   ]
  },
  {
   "cell_type": "code",
   "execution_count": 22,
   "id": "4fXwnJzxFeyO",
   "metadata": {
    "id": "4fXwnJzxFeyO"
   },
   "outputs": [],
   "source": [
    "# Measure of central tendency dari atribut selain atribut target \n",
    "df_desc = df_eksplor[['frekuensi_pembaruan_saldo','jumlah_trx_pembelian','limit_kredit','jumlah_pembayaran','frekuensi_uang_muka']]"
   ]
  },
  {
   "cell_type": "code",
   "execution_count": 23,
   "id": "dead4a98",
   "metadata": {
    "colab": {
     "base_uri": "https://localhost:8080/"
    },
    "id": "dead4a98",
    "outputId": "5de5682b-867f-47b2-b5b3-639c4aea558d"
   },
   "outputs": [
    {
     "data": {
      "text/plain": [
       "frekuensi_pembaruan_saldo       0.877271\n",
       "jumlah_trx_pembelian           14.709832\n",
       "limit_kredit                 4494.282473\n",
       "jumlah_pembayaran            1733.143852\n",
       "frekuensi_uang_muka             0.135144\n",
       "dtype: float64"
      ]
     },
     "execution_count": 23,
     "metadata": {},
     "output_type": "execute_result"
    }
   ],
   "source": [
    "# Nilai rata-rata dari atribut numerikal\n",
    "mean = df_desc.mean()\n",
    "mean"
   ]
  },
  {
   "cell_type": "markdown",
   "id": "3C9wO8VmsKvk",
   "metadata": {
    "id": "3C9wO8VmsKvk"
   },
   "source": [
    "ANALISIS\n",
    "\n",
    "dapat dilihat pada fungsi diatas jumlah rata rata frekuensi pembaruan saldo sebesar 0.877271, rata rata jumlah transaksi pembelian sebesar 14.709832, rata rata limit kredit sebesar 4494.282473, rata rata jumlah pembayaran sebesar 1733.143852, dan jumlah rata rata frekuensi uang muka 0.135144."
   ]
  },
  {
   "cell_type": "code",
   "execution_count": 24,
   "id": "912904dd",
   "metadata": {
    "colab": {
     "base_uri": "https://localhost:8080/"
    },
    "id": "912904dd",
    "outputId": "a451aac6-68a8-4b80-e39c-bf2368e68233"
   },
   "outputs": [
    {
     "data": {
      "text/plain": [
       "frekuensi_pembaruan_saldo       1.000000\n",
       "jumlah_trx_pembelian            7.000000\n",
       "limit_kredit                 3000.000000\n",
       "jumlah_pembayaran             856.901546\n",
       "frekuensi_uang_muka             0.000000\n",
       "dtype: float64"
      ]
     },
     "execution_count": 24,
     "metadata": {},
     "output_type": "execute_result"
    }
   ],
   "source": [
    "# Nilai median dari atribut numerikal\n",
    "median = df_desc.median()\n",
    "median"
   ]
  },
  {
   "cell_type": "markdown",
   "id": "I1eCSOVNuyfb",
   "metadata": {
    "id": "I1eCSOVNuyfb"
   },
   "source": [
    "ANALISIS\n",
    "\n",
    "dapat dilihat pada fungsi diatas jumlah niali tengah frekuensi pembaruan saldo sebesar 1.000000, nilai tengah transaksi pembelian sebesar 7.000000 , nilai tengah limit kredit sebesar 3000.000000 , nilai tengah pembayaran sebesar 856.901546, dan nilai tengah frekuensi uang muka 0.000000."
   ]
  },
  {
   "cell_type": "code",
   "execution_count": 25,
   "id": "e7475187",
   "metadata": {
    "colab": {
     "base_uri": "https://localhost:8080/",
     "height": 81
    },
    "id": "e7475187",
    "outputId": "9c9d460a-f2d3-4d32-a76a-7fc70314f502",
    "scrolled": true
   },
   "outputs": [
    {
     "data": {
      "text/html": [
       "<div>\n",
       "<style scoped>\n",
       "    .dataframe tbody tr th:only-of-type {\n",
       "        vertical-align: middle;\n",
       "    }\n",
       "\n",
       "    .dataframe tbody tr th {\n",
       "        vertical-align: top;\n",
       "    }\n",
       "\n",
       "    .dataframe thead th {\n",
       "        text-align: right;\n",
       "    }\n",
       "</style>\n",
       "<table border=\"1\" class=\"dataframe\">\n",
       "  <thead>\n",
       "    <tr style=\"text-align: right;\">\n",
       "      <th></th>\n",
       "      <th>frekuensi_pembaruan_saldo</th>\n",
       "      <th>jumlah_trx_pembelian</th>\n",
       "      <th>limit_kredit</th>\n",
       "      <th>jumlah_pembayaran</th>\n",
       "      <th>frekuensi_uang_muka</th>\n",
       "    </tr>\n",
       "  </thead>\n",
       "  <tbody>\n",
       "    <tr>\n",
       "      <th>0</th>\n",
       "      <td>1.0</td>\n",
       "      <td>0</td>\n",
       "      <td>3000.0</td>\n",
       "      <td>0.0</td>\n",
       "      <td>0.0</td>\n",
       "    </tr>\n",
       "  </tbody>\n",
       "</table>\n",
       "</div>"
      ],
      "text/plain": [
       "   frekuensi_pembaruan_saldo  jumlah_trx_pembelian  limit_kredit  \\\n",
       "0                        1.0                     0        3000.0   \n",
       "\n",
       "   jumlah_pembayaran  frekuensi_uang_muka  \n",
       "0                0.0                  0.0  "
      ]
     },
     "execution_count": 25,
     "metadata": {},
     "output_type": "execute_result"
    }
   ],
   "source": [
    "# Nilai modus dari semua atribut kecuali atribut target\n",
    "mode = df_desc.mode()\n",
    "mode \n"
   ]
  },
  {
   "cell_type": "markdown",
   "id": "b329521a",
   "metadata": {
    "id": "b329521a"
   },
   "source": [
    "**Rangkuman Measure of Central Tendency**"
   ]
  },
  {
   "cell_type": "code",
   "execution_count": 26,
   "id": "a66f4d1a",
   "metadata": {
    "colab": {
     "base_uri": "https://localhost:8080/",
     "height": 112
    },
    "id": "a66f4d1a",
    "outputId": "76bb75e6-f7ff-46ba-a586-fcc74785cbd5"
   },
   "outputs": [
    {
     "data": {
      "text/html": [
       "<div>\n",
       "<style scoped>\n",
       "    .dataframe tbody tr th:only-of-type {\n",
       "        vertical-align: middle;\n",
       "    }\n",
       "\n",
       "    .dataframe tbody tr th {\n",
       "        vertical-align: top;\n",
       "    }\n",
       "\n",
       "    .dataframe thead th {\n",
       "        text-align: right;\n",
       "    }\n",
       "</style>\n",
       "<table border=\"1\" class=\"dataframe\">\n",
       "  <thead>\n",
       "    <tr style=\"text-align: right;\">\n",
       "      <th></th>\n",
       "      <th>frekuensi_pembaruan_saldo</th>\n",
       "      <th>jumlah_trx_pembelian</th>\n",
       "      <th>limit_kredit</th>\n",
       "      <th>jumlah_pembayaran</th>\n",
       "      <th>frekuensi_uang_muka</th>\n",
       "    </tr>\n",
       "  </thead>\n",
       "  <tbody>\n",
       "    <tr>\n",
       "      <th>Mean</th>\n",
       "      <td>0.877271</td>\n",
       "      <td>14.709832</td>\n",
       "      <td>4494.282473</td>\n",
       "      <td>1733.143852</td>\n",
       "      <td>0.135144</td>\n",
       "    </tr>\n",
       "    <tr>\n",
       "      <th>Median</th>\n",
       "      <td>1.000000</td>\n",
       "      <td>7.000000</td>\n",
       "      <td>3000.000000</td>\n",
       "      <td>856.901546</td>\n",
       "      <td>0.000000</td>\n",
       "    </tr>\n",
       "  </tbody>\n",
       "</table>\n",
       "</div>"
      ],
      "text/plain": [
       "        frekuensi_pembaruan_saldo  jumlah_trx_pembelian  limit_kredit  \\\n",
       "Mean                     0.877271             14.709832   4494.282473   \n",
       "Median                   1.000000              7.000000   3000.000000   \n",
       "\n",
       "        jumlah_pembayaran  frekuensi_uang_muka  \n",
       "Mean          1733.143852             0.135144  \n",
       "Median         856.901546             0.000000  "
      ]
     },
     "execution_count": 26,
     "metadata": {},
     "output_type": "execute_result"
    }
   ],
   "source": [
    "df_centraltendency = pd.DataFrame(data={\n",
    "    'Mean':mean,\n",
    "    'Median':median,\n",
    "}).transpose()\n",
    " \n",
    "df_centraltendency"
   ]
  },
  {
   "cell_type": "markdown",
   "id": "3bbab2ed",
   "metadata": {
    "id": "3bbab2ed"
   },
   "source": [
    "**ANALISIS PERHITUNGAN TENDENSI SENTRAL**\n",
    "\n",
    "1. Hampir mayoritas atribut bertipe numerikal memiliki nilai mean, median, dan modus yang hampir sama (selisihnya cukup kecil pada atribut tertentu). Hal ini bisa menandakan bahwa mayoritas distribusi data pada atribut numerik cenderung simetris. Namun, masih ada beberapa atribut numerik yang selisih antara mean dan median nya berbeda dua kali lipat (cenderung tidak simetris), seperti jumlah_trx_pembelian dan Jumlah_pembayaran\n",
    "2. Atribut jumlah_trx_pembelian dan jumlah_pembayaran memiliki mean > median (kecenderungan right skew) dan juga nilai modus sebesar 0."
   ]
  },
  {
   "cell_type": "markdown",
   "id": "272714c3",
   "metadata": {
    "id": "272714c3"
   },
   "source": [
    "### Menghitung measure of spread (variability)"
   ]
  },
  {
   "cell_type": "code",
   "execution_count": 27,
   "id": "4c3c11fd",
   "metadata": {
    "colab": {
     "base_uri": "https://localhost:8080/"
    },
    "id": "4c3c11fd",
    "outputId": "08d0bf48-f61d-4c95-eaa0-5f50f82f7260"
   },
   "outputs": [
    {
     "data": {
      "text/plain": [
       "frekuensi_uang_muka          4.004857e-02\n",
       "frekuensi_pembaruan_saldo    5.612351e-02\n",
       "jumlah_trx_pembelian         6.179027e+02\n",
       "jumlah_pembayaran            8.381394e+06\n",
       "limit_kredit                 1.323975e+07\n",
       "dtype: float64"
      ]
     },
     "execution_count": 27,
     "metadata": {},
     "output_type": "execute_result"
    }
   ],
   "source": [
    "# Nilai Simple Varians (ddof=1)\n",
    "\n",
    "df_desc.var(ddof=1).sort_values()"
   ]
  },
  {
   "cell_type": "code",
   "execution_count": 28,
   "id": "3c03e1ce",
   "metadata": {
    "colab": {
     "base_uri": "https://localhost:8080/"
    },
    "id": "3c03e1ce",
    "outputId": "b8b07e69-6fff-4cf9-a1eb-dd7fbd782fd3"
   },
   "outputs": [
    {
     "data": {
      "text/plain": [
       "frekuensi_uang_muka             0.200121\n",
       "frekuensi_pembaruan_saldo       0.236904\n",
       "jumlah_trx_pembelian           24.857649\n",
       "jumlah_pembayaran            2895.063757\n",
       "limit_kredit                 3638.646702\n",
       "dtype: float64"
      ]
     },
     "execution_count": 28,
     "metadata": {},
     "output_type": "execute_result"
    }
   ],
   "source": [
    "#Sampel Standard Deviation\n",
    "\n",
    "df_desc.std(ddof=1).sort_values()"
   ]
  },
  {
   "cell_type": "code",
   "execution_count": 29,
   "id": "5adcd526",
   "metadata": {
    "colab": {
     "base_uri": "https://localhost:8080/"
    },
    "id": "5adcd526",
    "outputId": "df0d09a6-d023-4b6c-87b1-d4a622aabacd"
   },
   "outputs": [
    {
     "data": {
      "text/plain": [
       "jumlah_pembayaran            5.907620\n",
       "jumlah_trx_pembelian         4.630655\n",
       "frekuensi_uang_muka          1.828686\n",
       "limit_kredit                 1.522636\n",
       "frekuensi_pembaruan_saldo   -2.023266\n",
       "dtype: float64"
      ]
     },
     "execution_count": 29,
     "metadata": {},
     "output_type": "execute_result"
    }
   ],
   "source": [
    "#Nilai skewness\n",
    "\n",
    "df_desc.skew().sort_values(ascending=False)"
   ]
  },
  {
   "cell_type": "code",
   "execution_count": 30,
   "id": "b99881d9",
   "metadata": {
    "id": "b99881d9"
   },
   "outputs": [],
   "source": [
    "#Percentiles\n",
    "\n",
    "# menghitung kuartile 1,2, dan 3\n",
    "Q1,Q2, Q3 = df_desc.quantile(0.25), df_desc.quantile(0.5),df_desc.quantile(0.75)\n",
    "\n",
    "# menghitung IQR (selisih dari Q3 dengan Q1)\n",
    "IQR = Q3-Q1 "
   ]
  },
  {
   "cell_type": "code",
   "execution_count": 31,
   "id": "b0ce8bf4",
   "metadata": {
    "id": "b0ce8bf4"
   },
   "outputs": [],
   "source": [
    "#Ranges\n",
    "\n",
    "max_ = df_desc.max()\n",
    "min_ = df_desc.min() \n",
    "ranges =  max_ - min_"
   ]
  },
  {
   "cell_type": "markdown",
   "id": "1411f1ee",
   "metadata": {
    "id": "1411f1ee"
   },
   "source": [
    "**Rangkuman Measure of Variability**"
   ]
  },
  {
   "cell_type": "code",
   "execution_count": 32,
   "id": "54607e89",
   "metadata": {
    "id": "54607e89"
   },
   "outputs": [],
   "source": [
    "df_clean_variability = pd.DataFrame(data={\n",
    "    'Q1':Q1,\n",
    "    'Q2':Q2,\n",
    "    'Q3':Q3,\n",
    "    'IQR':IQR,\n",
    "    'Maximum':max_,\n",
    "    'Minimum':min_,\n",
    "    'Ranges':ranges\n",
    "}).transpose()"
   ]
  },
  {
   "cell_type": "code",
   "execution_count": 33,
   "id": "45ff6d66",
   "metadata": {
    "colab": {
     "base_uri": "https://localhost:8080/",
     "height": 269
    },
    "id": "45ff6d66",
    "outputId": "827be50b-5130-4682-95c1-7e6a5d734a6e"
   },
   "outputs": [
    {
     "data": {
      "text/html": [
       "<div>\n",
       "<style scoped>\n",
       "    .dataframe tbody tr th:only-of-type {\n",
       "        vertical-align: middle;\n",
       "    }\n",
       "\n",
       "    .dataframe tbody tr th {\n",
       "        vertical-align: top;\n",
       "    }\n",
       "\n",
       "    .dataframe thead th {\n",
       "        text-align: right;\n",
       "    }\n",
       "</style>\n",
       "<table border=\"1\" class=\"dataframe\">\n",
       "  <thead>\n",
       "    <tr style=\"text-align: right;\">\n",
       "      <th></th>\n",
       "      <th>frekuensi_pembaruan_saldo</th>\n",
       "      <th>jumlah_trx_pembelian</th>\n",
       "      <th>limit_kredit</th>\n",
       "      <th>jumlah_pembayaran</th>\n",
       "      <th>frekuensi_uang_muka</th>\n",
       "    </tr>\n",
       "  </thead>\n",
       "  <tbody>\n",
       "    <tr>\n",
       "      <th>Q1</th>\n",
       "      <td>0.888889</td>\n",
       "      <td>1.0</td>\n",
       "      <td>1600.0</td>\n",
       "      <td>383.276166</td>\n",
       "      <td>0.000000</td>\n",
       "    </tr>\n",
       "    <tr>\n",
       "      <th>Q2</th>\n",
       "      <td>1.000000</td>\n",
       "      <td>7.0</td>\n",
       "      <td>3000.0</td>\n",
       "      <td>856.901546</td>\n",
       "      <td>0.000000</td>\n",
       "    </tr>\n",
       "    <tr>\n",
       "      <th>Q3</th>\n",
       "      <td>1.000000</td>\n",
       "      <td>17.0</td>\n",
       "      <td>6500.0</td>\n",
       "      <td>1901.134317</td>\n",
       "      <td>0.222222</td>\n",
       "    </tr>\n",
       "    <tr>\n",
       "      <th>IQR</th>\n",
       "      <td>0.111111</td>\n",
       "      <td>16.0</td>\n",
       "      <td>4900.0</td>\n",
       "      <td>1517.858151</td>\n",
       "      <td>0.222222</td>\n",
       "    </tr>\n",
       "    <tr>\n",
       "      <th>Maximum</th>\n",
       "      <td>1.000000</td>\n",
       "      <td>358.0</td>\n",
       "      <td>30000.0</td>\n",
       "      <td>50721.483360</td>\n",
       "      <td>1.500000</td>\n",
       "    </tr>\n",
       "    <tr>\n",
       "      <th>Minimum</th>\n",
       "      <td>0.000000</td>\n",
       "      <td>0.0</td>\n",
       "      <td>50.0</td>\n",
       "      <td>0.000000</td>\n",
       "      <td>0.000000</td>\n",
       "    </tr>\n",
       "    <tr>\n",
       "      <th>Ranges</th>\n",
       "      <td>1.000000</td>\n",
       "      <td>358.0</td>\n",
       "      <td>29950.0</td>\n",
       "      <td>50721.483360</td>\n",
       "      <td>1.500000</td>\n",
       "    </tr>\n",
       "  </tbody>\n",
       "</table>\n",
       "</div>"
      ],
      "text/plain": [
       "         frekuensi_pembaruan_saldo  jumlah_trx_pembelian  limit_kredit  \\\n",
       "Q1                        0.888889                   1.0        1600.0   \n",
       "Q2                        1.000000                   7.0        3000.0   \n",
       "Q3                        1.000000                  17.0        6500.0   \n",
       "IQR                       0.111111                  16.0        4900.0   \n",
       "Maximum                   1.000000                 358.0       30000.0   \n",
       "Minimum                   0.000000                   0.0          50.0   \n",
       "Ranges                    1.000000                 358.0       29950.0   \n",
       "\n",
       "         jumlah_pembayaran  frekuensi_uang_muka  \n",
       "Q1              383.276166             0.000000  \n",
       "Q2              856.901546             0.000000  \n",
       "Q3             1901.134317             0.222222  \n",
       "IQR            1517.858151             0.222222  \n",
       "Maximum       50721.483360             1.500000  \n",
       "Minimum           0.000000             0.000000  \n",
       "Ranges        50721.483360             1.500000  "
      ]
     },
     "execution_count": 33,
     "metadata": {},
     "output_type": "execute_result"
    }
   ],
   "source": [
    "df_clean_variability"
   ]
  },
  {
   "cell_type": "markdown",
   "id": "48ee40b9",
   "metadata": {
    "id": "48ee40b9"
   },
   "source": [
    "ANALISIS PENGUKURAN SEBARAN DATA (Measure of Spread)\n",
    "\n",
    "1. Sebaran data dapat dijelaskan dengan menggunakan variance atau standar deviasi. Namun standar deviasi lebih cocok daripada variance karena memiliki satuan yang sama dengan data points.\n",
    "2. Atribut jumlah_pembayaran memiliki range yang paling tinggi. \n",
    "3. Pada atribut jumlah_trx_pembelian nilai maximumnya adalah 358 sedangkan 1.5*IQR = 24. Maka bisa disimpulkan terdapat outlier didalamnya.\n",
    " \n",
    "\n",
    "\n",
    "\n"
   ]
  },
  {
   "cell_type": "markdown",
   "id": "0u_t_1okmphb",
   "metadata": {
    "id": "0u_t_1okmphb"
   },
   "source": [
    "### Eksplorasi Feature\n",
    "\n",
    "\n",
    "\n"
   ]
  },
  {
   "cell_type": "code",
   "execution_count": 34,
   "id": "kjrcIqpsu8Yv",
   "metadata": {
    "colab": {
     "base_uri": "https://localhost:8080/",
     "height": 0
    },
    "id": "kjrcIqpsu8Yv",
    "outputId": "8a85922b-797c-4a0d-b838-e5f7aff82106"
   },
   "outputs": [
    {
     "data": {
      "image/png": "[encoded data removed]",
      "text/plain": [
       "<Figure size 432x288 with 1 Axes>"
      ]
     },
     "metadata": {
      "needs_background": "light"
     },
     "output_type": "display_data"
    },
    {
     "data": {
      "image/png": "[encoded data removed]",
      "text/plain": [
       "<Figure size 432x288 with 1 Axes>"
      ]
     },
     "metadata": {
      "needs_background": "light"
     },
     "output_type": "display_data"
    },
    {
     "data": {
      "image/png": "[encoded data removed]",
      "text/plain": [
       "<Figure size 432x288 with 1 Axes>"
      ]
     },
     "metadata": {
      "needs_background": "light"
     },
     "output_type": "display_data"
    },
    {
     "data": {
      "image/png": "[encoded data removed]",
      "text/plain": [
       "<Figure size 432x288 with 1 Axes>"
      ]
     },
     "metadata": {
      "needs_background": "light"
     },
     "output_type": "display_data"
    },
    {
     "data": {
      "image/png": "[encoded data removed]",
      "text/plain": [
       "<Figure size 432x288 with 1 Axes>"
      ]
     },
     "metadata": {
      "needs_background": "light"
     },
     "output_type": "display_data"
    }
   ],
   "source": [
    "feature = ['frekuensi_pembaruan_saldo','jumlah_trx_pembelian','limit_kredit','jumlah_pembayaran','frekuensi_uang_muka']\n",
    "for i in feature :\n",
    "  sns.boxplot( x=df_desc[i] );\n",
    "  plt.show()\n",
    "\n",
    "\n"
   ]
  },
  {
   "cell_type": "markdown",
   "id": "vXvgFgj3MZNR",
   "metadata": {
    "id": "vXvgFgj3MZNR"
   },
   "source": [
    "### Eksplorasi Atribut Target"
   ]
  },
  {
   "cell_type": "code",
   "execution_count": 35,
   "id": "3N-jHkKFKumU",
   "metadata": {
    "colab": {
     "base_uri": "https://localhost:8080/",
     "height": 0
    },
    "id": "3N-jHkKFKumU",
    "outputId": "56977947-137e-4460-9007-5bd5248ba626"
   },
   "outputs": [
    {
     "data": {
      "text/html": [
       "<div>\n",
       "<style scoped>\n",
       "    .dataframe tbody tr th:only-of-type {\n",
       "        vertical-align: middle;\n",
       "    }\n",
       "\n",
       "    .dataframe tbody tr th {\n",
       "        vertical-align: top;\n",
       "    }\n",
       "\n",
       "    .dataframe thead th {\n",
       "        text-align: right;\n",
       "    }\n",
       "</style>\n",
       "<table border=\"1\" class=\"dataframe\">\n",
       "  <thead>\n",
       "    <tr style=\"text-align: right;\">\n",
       "      <th></th>\n",
       "      <th>frekuensi_pembaruan_saldo</th>\n",
       "      <th>jumlah_trx_pembelian</th>\n",
       "      <th>limit_kredit</th>\n",
       "      <th>jumlah_pembayaran</th>\n",
       "      <th>frekuensi_uang_muka</th>\n",
       "      <th>masa_berlaku_kartu_kredit</th>\n",
       "    </tr>\n",
       "  </thead>\n",
       "  <tbody>\n",
       "    <tr>\n",
       "      <th>0</th>\n",
       "      <td>0.818182</td>\n",
       "      <td>2</td>\n",
       "      <td>1000.0</td>\n",
       "      <td>201.802084</td>\n",
       "      <td>0.000000</td>\n",
       "      <td>12</td>\n",
       "    </tr>\n",
       "    <tr>\n",
       "      <th>1</th>\n",
       "      <td>0.909091</td>\n",
       "      <td>0</td>\n",
       "      <td>7000.0</td>\n",
       "      <td>4103.032597</td>\n",
       "      <td>0.250000</td>\n",
       "      <td>12</td>\n",
       "    </tr>\n",
       "    <tr>\n",
       "      <th>2</th>\n",
       "      <td>1.000000</td>\n",
       "      <td>12</td>\n",
       "      <td>7500.0</td>\n",
       "      <td>622.066742</td>\n",
       "      <td>0.000000</td>\n",
       "      <td>12</td>\n",
       "    </tr>\n",
       "    <tr>\n",
       "      <th>3</th>\n",
       "      <td>0.636364</td>\n",
       "      <td>1</td>\n",
       "      <td>7500.0</td>\n",
       "      <td>0.000000</td>\n",
       "      <td>0.083333</td>\n",
       "      <td>12</td>\n",
       "    </tr>\n",
       "    <tr>\n",
       "      <th>4</th>\n",
       "      <td>1.000000</td>\n",
       "      <td>1</td>\n",
       "      <td>1200.0</td>\n",
       "      <td>678.334763</td>\n",
       "      <td>0.000000</td>\n",
       "      <td>12</td>\n",
       "    </tr>\n",
       "  </tbody>\n",
       "</table>\n",
       "</div>"
      ],
      "text/plain": [
       "   frekuensi_pembaruan_saldo  jumlah_trx_pembelian  limit_kredit  \\\n",
       "0                   0.818182                     2        1000.0   \n",
       "1                   0.909091                     0        7000.0   \n",
       "2                   1.000000                    12        7500.0   \n",
       "3                   0.636364                     1        7500.0   \n",
       "4                   1.000000                     1        1200.0   \n",
       "\n",
       "   jumlah_pembayaran  frekuensi_uang_muka  masa_berlaku_kartu_kredit  \n",
       "0         201.802084             0.000000                         12  \n",
       "1        4103.032597             0.250000                         12  \n",
       "2         622.066742             0.000000                         12  \n",
       "3           0.000000             0.083333                         12  \n",
       "4         678.334763             0.000000                         12  "
      ]
     },
     "execution_count": 35,
     "metadata": {},
     "output_type": "execute_result"
    }
   ],
   "source": [
    "df_eksplor.head()"
   ]
  },
  {
   "cell_type": "code",
   "execution_count": 36,
   "id": "dBj3AbFaLjV_",
   "metadata": {
    "colab": {
     "base_uri": "https://localhost:8080/"
    },
    "id": "dBj3AbFaLjV_",
    "outputId": "88a19a1d-d2b2-4292-d6f6-1e94fb7f7c0d"
   },
   "outputs": [
    {
     "data": {
      "text/plain": [
       "12    7584\n",
       "11     365\n",
       "10     236\n",
       "6      204\n",
       "8      196\n",
       "7      190\n",
       "9      175\n",
       "Name: masa_berlaku_kartu_kredit, dtype: int64"
      ]
     },
     "execution_count": 36,
     "metadata": {},
     "output_type": "execute_result"
    }
   ],
   "source": [
    "#melihat banyak setiap nilai pada label kelas/target \n",
    "df_eksplor['masa_berlaku_kartu_kredit'].value_counts()"
   ]
  },
  {
   "cell_type": "code",
   "execution_count": 37,
   "id": "Ac5ubhPzy3y4",
   "metadata": {
    "colab": {
     "base_uri": "https://localhost:8080/"
    },
    "id": "Ac5ubhPzy3y4",
    "outputId": "41a7dd90-7d94-4c83-a664-927212504c78"
   },
   "outputs": [
    {
     "data": {
      "text/plain": [
       "array(['frekuensi_pembaruan_saldo', 'jumlah_trx_pembelian',\n",
       "       'limit_kredit', 'jumlah_pembayaran', 'frekuensi_uang_muka',\n",
       "       'masa_berlaku_kartu_kredit'], dtype=object)"
      ]
     },
     "execution_count": 37,
     "metadata": {},
     "output_type": "execute_result"
    }
   ],
   "source": [
    "label = df_eksplor.columns \n",
    "np.array(label)"
   ]
  },
  {
   "cell_type": "markdown",
   "id": "9ec39077",
   "metadata": {
    "id": "9ec39077"
   },
   "source": [
    "## Data Preprocessing\n",
    "\n",
    "Bagian ini berisi proses penyiapan data untuk proses pelatihan model,\n",
    "seperti pembagian data menjadi train-dev-test, transformasi data (normalisasi, encoding, dll.), dan proses-proses lain yang dibutuhkan"
   ]
  },
  {
   "cell_type": "code",
   "execution_count": 38,
   "id": "1wSLrAPVN8MO",
   "metadata": {
    "id": "1wSLrAPVN8MO"
   },
   "outputs": [],
   "source": [
    "df_prepro = df_eksplor.copy()"
   ]
  },
  {
   "cell_type": "markdown",
   "id": "si194RZiNOgj",
   "metadata": {
    "id": "si194RZiNOgj"
   },
   "source": [
    "### Balancing data target\n",
    "Dari pie chart,dapat diketahui bahwa data target imbalanced, sehingga perlu melakukan balancing data. Balancing data dapat digunakan dengan menggunakan undersampling. metode ini juga digunakan untuk mengurangi training time."
   ]
  },
  {
   "cell_type": "code",
   "execution_count": 39,
   "id": "SR8vSh--NNgL",
   "metadata": {
    "colab": {
     "base_uri": "https://localhost:8080/",
     "height": 0
    },
    "id": "SR8vSh--NNgL",
    "outputId": "c7d502ba-d7d2-4dd2-fe8a-33499a61d9e0"
   },
   "outputs": [
    {
     "data": {
      "text/plain": [
       "\"# Undersampling\\n# jumlah sampel untuk diundersampling\\njml_sampel = 175\\n\\n# under-sampling kelas agar jumlahnya sama sebesar n_sampel\\ndf_6 = df_prepro[df_prepro['masa_berlaku_kartu_kredit']==6].sample(frac=1, random_state=42)[:jml_sampel]\\ndf_7 = df_prepro[df_prepro['masa_berlaku_kartu_kredit']==7].sample(frac=1, random_state=42)[:jml_sampel]\\ndf_8 = df_prepro[df_prepro['masa_berlaku_kartu_kredit']==8].sample(frac=1, random_state=42)[:jml_sampel]\\ndf_9 = df_prepro[df_prepro['masa_berlaku_kartu_kredit']==9].sample(frac=1, random_state=42)[:jml_sampel]\\ndf_10 = df_prepro[df_prepro['masa_berlaku_kartu_kredit']==10].sample(frac=1, random_state=42)[:jml_sampel]\\ndf_11 = df_prepro[df_prepro['masa_berlaku_kartu_kredit']==11].sample(frac=1, random_state=42)[:jml_sampel]\\ndf_12 = df_prepro[df_prepro['masa_berlaku_kartu_kredit']==12].sample(frac=1, random_state=42)[:jml_sampel]\\n\\n\\n\\n# concat data berlabel 'yes' dan 'no' hasil balanced sampling\\ndf_concat = pd.concat([df_6,df_7,df_8,df_9,df_10,df_11,df_12])\\n\\n# shuffle row pada data yang sudah digabung agar acak\\ndf_balance = df_concat.sample(frac=1, random_state=42)\""
      ]
     },
     "execution_count": 39,
     "metadata": {},
     "output_type": "execute_result"
    }
   ],
   "source": [
    "'''# Undersampling\n",
    "# jumlah sampel untuk diundersampling\n",
    "jml_sampel = 175\n",
    "\n",
    "# under-sampling kelas agar jumlahnya sama sebesar n_sampel\n",
    "df_6 = df_prepro[df_prepro['masa_berlaku_kartu_kredit']==6].sample(frac=1, random_state=42)[:jml_sampel]\n",
    "df_7 = df_prepro[df_prepro['masa_berlaku_kartu_kredit']==7].sample(frac=1, random_state=42)[:jml_sampel]\n",
    "df_8 = df_prepro[df_prepro['masa_berlaku_kartu_kredit']==8].sample(frac=1, random_state=42)[:jml_sampel]\n",
    "df_9 = df_prepro[df_prepro['masa_berlaku_kartu_kredit']==9].sample(frac=1, random_state=42)[:jml_sampel]\n",
    "df_10 = df_prepro[df_prepro['masa_berlaku_kartu_kredit']==10].sample(frac=1, random_state=42)[:jml_sampel]\n",
    "df_11 = df_prepro[df_prepro['masa_berlaku_kartu_kredit']==11].sample(frac=1, random_state=42)[:jml_sampel]\n",
    "df_12 = df_prepro[df_prepro['masa_berlaku_kartu_kredit']==12].sample(frac=1, random_state=42)[:jml_sampel]\n",
    "\n",
    "\n",
    "\n",
    "# concat data berlabel 'yes' dan 'no' hasil balanced sampling\n",
    "df_concat = pd.concat([df_6,df_7,df_8,df_9,df_10,df_11,df_12])\n",
    "\n",
    "# shuffle row pada data yang sudah digabung agar acak\n",
    "df_balance = df_concat.sample(frac=1, random_state=42)'''"
   ]
  },
  {
   "cell_type": "code",
   "execution_count": 40,
   "id": "d_pLN54KOtXD",
   "metadata": {
    "colab": {
     "base_uri": "https://localhost:8080/",
     "height": 0
    },
    "id": "d_pLN54KOtXD",
    "outputId": "6557719f-b8fe-4941-c038-4fbd4cbab445"
   },
   "outputs": [
    {
     "data": {
      "text/plain": [
       "\"#melihat banyak setiap nilai pada label kelas/target setelah undersampling\\ndf_balance['masa_berlaku_kartu_kredit'].value_counts()\""
      ]
     },
     "execution_count": 40,
     "metadata": {},
     "output_type": "execute_result"
    }
   ],
   "source": [
    "'''#melihat banyak setiap nilai pada label kelas/target setelah undersampling\n",
    "df_balance['masa_berlaku_kartu_kredit'].value_counts()'''"
   ]
  },
  {
   "cell_type": "markdown",
   "id": "Me1bFThiiKo8",
   "metadata": {
    "id": "Me1bFThiiKo8"
   },
   "source": [
    "### Train-test-split"
   ]
  },
  {
   "cell_type": "code",
   "execution_count": 41,
   "id": "0ixVhhUfPGBN",
   "metadata": {
    "colab": {
     "base_uri": "https://localhost:8080/",
     "height": 0
    },
    "id": "0ixVhhUfPGBN",
    "outputId": "ae40a2ef-e4b0-4db0-cc82-125598cf468d"
   },
   "outputs": [
    {
     "data": {
      "text/html": [
       "<div>\n",
       "<style scoped>\n",
       "    .dataframe tbody tr th:only-of-type {\n",
       "        vertical-align: middle;\n",
       "    }\n",
       "\n",
       "    .dataframe tbody tr th {\n",
       "        vertical-align: top;\n",
       "    }\n",
       "\n",
       "    .dataframe thead th {\n",
       "        text-align: right;\n",
       "    }\n",
       "</style>\n",
       "<table border=\"1\" class=\"dataframe\">\n",
       "  <thead>\n",
       "    <tr style=\"text-align: right;\">\n",
       "      <th></th>\n",
       "      <th>frekuensi_pembaruan_saldo</th>\n",
       "      <th>jumlah_trx_pembelian</th>\n",
       "      <th>limit_kredit</th>\n",
       "      <th>jumlah_pembayaran</th>\n",
       "      <th>frekuensi_uang_muka</th>\n",
       "      <th>masa_berlaku_kartu_kredit</th>\n",
       "    </tr>\n",
       "  </thead>\n",
       "  <tbody>\n",
       "    <tr>\n",
       "      <th>0</th>\n",
       "      <td>0.818182</td>\n",
       "      <td>2</td>\n",
       "      <td>1000.0</td>\n",
       "      <td>201.802084</td>\n",
       "      <td>0.000000</td>\n",
       "      <td>12</td>\n",
       "    </tr>\n",
       "    <tr>\n",
       "      <th>1</th>\n",
       "      <td>0.909091</td>\n",
       "      <td>0</td>\n",
       "      <td>7000.0</td>\n",
       "      <td>4103.032597</td>\n",
       "      <td>0.250000</td>\n",
       "      <td>12</td>\n",
       "    </tr>\n",
       "    <tr>\n",
       "      <th>2</th>\n",
       "      <td>1.000000</td>\n",
       "      <td>12</td>\n",
       "      <td>7500.0</td>\n",
       "      <td>622.066742</td>\n",
       "      <td>0.000000</td>\n",
       "      <td>12</td>\n",
       "    </tr>\n",
       "    <tr>\n",
       "      <th>3</th>\n",
       "      <td>0.636364</td>\n",
       "      <td>1</td>\n",
       "      <td>7500.0</td>\n",
       "      <td>0.000000</td>\n",
       "      <td>0.083333</td>\n",
       "      <td>12</td>\n",
       "    </tr>\n",
       "    <tr>\n",
       "      <th>4</th>\n",
       "      <td>1.000000</td>\n",
       "      <td>1</td>\n",
       "      <td>1200.0</td>\n",
       "      <td>678.334763</td>\n",
       "      <td>0.000000</td>\n",
       "      <td>12</td>\n",
       "    </tr>\n",
       "  </tbody>\n",
       "</table>\n",
       "</div>"
      ],
      "text/plain": [
       "   frekuensi_pembaruan_saldo  jumlah_trx_pembelian  limit_kredit  \\\n",
       "0                   0.818182                     2        1000.0   \n",
       "1                   0.909091                     0        7000.0   \n",
       "2                   1.000000                    12        7500.0   \n",
       "3                   0.636364                     1        7500.0   \n",
       "4                   1.000000                     1        1200.0   \n",
       "\n",
       "   jumlah_pembayaran  frekuensi_uang_muka  masa_berlaku_kartu_kredit  \n",
       "0         201.802084             0.000000                         12  \n",
       "1        4103.032597             0.250000                         12  \n",
       "2         622.066742             0.000000                         12  \n",
       "3           0.000000             0.083333                         12  \n",
       "4         678.334763             0.000000                         12  "
      ]
     },
     "execution_count": 41,
     "metadata": {},
     "output_type": "execute_result"
    }
   ],
   "source": [
    "df_prepro.head()"
   ]
  },
  {
   "cell_type": "code",
   "execution_count": 42,
   "id": "Zub9wfF0PMcR",
   "metadata": {
    "colab": {
     "base_uri": "https://localhost:8080/",
     "height": 0
    },
    "id": "Zub9wfF0PMcR",
    "outputId": "a155726c-a6a5-4e2f-acb0-5c11c62b8c33"
   },
   "outputs": [
    {
     "data": {
      "text/plain": [
       "'#Mereset index menjadi index baru\\ndf_prepro = df_prepro.reset_index(drop=True)\\ndf_balance.head()'"
      ]
     },
     "execution_count": 42,
     "metadata": {},
     "output_type": "execute_result"
    }
   ],
   "source": [
    "'''#Mereset index menjadi index baru\n",
    "df_prepro = df_prepro.reset_index(drop=True)\n",
    "df_balance.head()'''"
   ]
  },
  {
   "cell_type": "code",
   "execution_count": 43,
   "id": "b6128744",
   "metadata": {
    "id": "b6128744"
   },
   "outputs": [],
   "source": [
    "\n",
    "# split atribut dan target\n",
    "x, y = df_prepro.drop('masa_berlaku_kartu_kredit', axis = 1), df_prepro['masa_berlaku_kartu_kredit']\n"
   ]
  },
  {
   "cell_type": "code",
   "execution_count": 44,
   "id": "g5MfUTpjOHuZ",
   "metadata": {
    "colab": {
     "base_uri": "https://localhost:8080/",
     "height": 0
    },
    "id": "g5MfUTpjOHuZ",
    "outputId": "0a83dc3b-de14-4ed5-aad2-5ac6b42bc32b"
   },
   "outputs": [
    {
     "data": {
      "text/html": [
       "<div>\n",
       "<style scoped>\n",
       "    .dataframe tbody tr th:only-of-type {\n",
       "        vertical-align: middle;\n",
       "    }\n",
       "\n",
       "    .dataframe tbody tr th {\n",
       "        vertical-align: top;\n",
       "    }\n",
       "\n",
       "    .dataframe thead th {\n",
       "        text-align: right;\n",
       "    }\n",
       "</style>\n",
       "<table border=\"1\" class=\"dataframe\">\n",
       "  <thead>\n",
       "    <tr style=\"text-align: right;\">\n",
       "      <th></th>\n",
       "      <th>frekuensi_pembaruan_saldo</th>\n",
       "      <th>jumlah_trx_pembelian</th>\n",
       "      <th>limit_kredit</th>\n",
       "      <th>jumlah_pembayaran</th>\n",
       "      <th>frekuensi_uang_muka</th>\n",
       "    </tr>\n",
       "  </thead>\n",
       "  <tbody>\n",
       "    <tr>\n",
       "      <th>0</th>\n",
       "      <td>0.818182</td>\n",
       "      <td>2</td>\n",
       "      <td>1000.0</td>\n",
       "      <td>201.802084</td>\n",
       "      <td>0.000000</td>\n",
       "    </tr>\n",
       "    <tr>\n",
       "      <th>1</th>\n",
       "      <td>0.909091</td>\n",
       "      <td>0</td>\n",
       "      <td>7000.0</td>\n",
       "      <td>4103.032597</td>\n",
       "      <td>0.250000</td>\n",
       "    </tr>\n",
       "    <tr>\n",
       "      <th>2</th>\n",
       "      <td>1.000000</td>\n",
       "      <td>12</td>\n",
       "      <td>7500.0</td>\n",
       "      <td>622.066742</td>\n",
       "      <td>0.000000</td>\n",
       "    </tr>\n",
       "    <tr>\n",
       "      <th>3</th>\n",
       "      <td>0.636364</td>\n",
       "      <td>1</td>\n",
       "      <td>7500.0</td>\n",
       "      <td>0.000000</td>\n",
       "      <td>0.083333</td>\n",
       "    </tr>\n",
       "    <tr>\n",
       "      <th>4</th>\n",
       "      <td>1.000000</td>\n",
       "      <td>1</td>\n",
       "      <td>1200.0</td>\n",
       "      <td>678.334763</td>\n",
       "      <td>0.000000</td>\n",
       "    </tr>\n",
       "  </tbody>\n",
       "</table>\n",
       "</div>"
      ],
      "text/plain": [
       "   frekuensi_pembaruan_saldo  jumlah_trx_pembelian  limit_kredit  \\\n",
       "0                   0.818182                     2        1000.0   \n",
       "1                   0.909091                     0        7000.0   \n",
       "2                   1.000000                    12        7500.0   \n",
       "3                   0.636364                     1        7500.0   \n",
       "4                   1.000000                     1        1200.0   \n",
       "\n",
       "   jumlah_pembayaran  frekuensi_uang_muka  \n",
       "0         201.802084             0.000000  \n",
       "1        4103.032597             0.250000  \n",
       "2         622.066742             0.000000  \n",
       "3           0.000000             0.083333  \n",
       "4         678.334763             0.000000  "
      ]
     },
     "execution_count": 44,
     "metadata": {},
     "output_type": "execute_result"
    }
   ],
   "source": [
    "x.head()"
   ]
  },
  {
   "cell_type": "code",
   "execution_count": 45,
   "id": "5kvlrUeNN9Pu",
   "metadata": {
    "colab": {
     "base_uri": "https://localhost:8080/"
    },
    "id": "5kvlrUeNN9Pu",
    "outputId": "b618717c-a4da-4230-9cce-c4ed5618a9e8"
   },
   "outputs": [
    {
     "data": {
      "text/plain": [
       "0       12\n",
       "1       12\n",
       "2       12\n",
       "3       12\n",
       "4       12\n",
       "        ..\n",
       "8945     6\n",
       "8946     6\n",
       "8947     6\n",
       "8948     6\n",
       "8949     6\n",
       "Name: masa_berlaku_kartu_kredit, Length: 8950, dtype: int64"
      ]
     },
     "execution_count": 45,
     "metadata": {},
     "output_type": "execute_result"
    }
   ],
   "source": [
    "y"
   ]
  },
  {
   "cell_type": "code",
   "execution_count": 46,
   "id": "c1867948",
   "metadata": {
    "id": "c1867948"
   },
   "outputs": [],
   "source": [
    "#splitting data\n",
    "x_train, x_test, y_train, y_test = train_test_split(x, y, test_size=0.3, random_state=5)\n"
   ]
  },
  {
   "cell_type": "code",
   "execution_count": 47,
   "id": "IAF_KVJdinAB",
   "metadata": {
    "colab": {
     "base_uri": "https://localhost:8080/",
     "height": 0
    },
    "id": "IAF_KVJdinAB",
    "outputId": "07141b3e-64dd-4e89-ce02-3e4a869ee313"
   },
   "outputs": [
    {
     "data": {
      "text/html": [
       "<div>\n",
       "<style scoped>\n",
       "    .dataframe tbody tr th:only-of-type {\n",
       "        vertical-align: middle;\n",
       "    }\n",
       "\n",
       "    .dataframe tbody tr th {\n",
       "        vertical-align: top;\n",
       "    }\n",
       "\n",
       "    .dataframe thead th {\n",
       "        text-align: right;\n",
       "    }\n",
       "</style>\n",
       "<table border=\"1\" class=\"dataframe\">\n",
       "  <thead>\n",
       "    <tr style=\"text-align: right;\">\n",
       "      <th></th>\n",
       "      <th>frekuensi_pembaruan_saldo</th>\n",
       "      <th>jumlah_trx_pembelian</th>\n",
       "      <th>limit_kredit</th>\n",
       "      <th>jumlah_pembayaran</th>\n",
       "      <th>frekuensi_uang_muka</th>\n",
       "    </tr>\n",
       "  </thead>\n",
       "  <tbody>\n",
       "    <tr>\n",
       "      <th>3015</th>\n",
       "      <td>1.0</td>\n",
       "      <td>16</td>\n",
       "      <td>1000.0</td>\n",
       "      <td>363.125659</td>\n",
       "      <td>0.000000</td>\n",
       "    </tr>\n",
       "    <tr>\n",
       "      <th>2691</th>\n",
       "      <td>1.0</td>\n",
       "      <td>0</td>\n",
       "      <td>1800.0</td>\n",
       "      <td>525.461839</td>\n",
       "      <td>0.250000</td>\n",
       "    </tr>\n",
       "    <tr>\n",
       "      <th>7492</th>\n",
       "      <td>1.0</td>\n",
       "      <td>24</td>\n",
       "      <td>1700.0</td>\n",
       "      <td>64.658608</td>\n",
       "      <td>0.000000</td>\n",
       "    </tr>\n",
       "    <tr>\n",
       "      <th>1371</th>\n",
       "      <td>1.0</td>\n",
       "      <td>9</td>\n",
       "      <td>6000.0</td>\n",
       "      <td>651.887762</td>\n",
       "      <td>0.083333</td>\n",
       "    </tr>\n",
       "    <tr>\n",
       "      <th>7297</th>\n",
       "      <td>1.0</td>\n",
       "      <td>0</td>\n",
       "      <td>3000.0</td>\n",
       "      <td>341.938368</td>\n",
       "      <td>0.500000</td>\n",
       "    </tr>\n",
       "  </tbody>\n",
       "</table>\n",
       "</div>"
      ],
      "text/plain": [
       "      frekuensi_pembaruan_saldo  jumlah_trx_pembelian  limit_kredit  \\\n",
       "3015                        1.0                    16        1000.0   \n",
       "2691                        1.0                     0        1800.0   \n",
       "7492                        1.0                    24        1700.0   \n",
       "1371                        1.0                     9        6000.0   \n",
       "7297                        1.0                     0        3000.0   \n",
       "\n",
       "      jumlah_pembayaran  frekuensi_uang_muka  \n",
       "3015         363.125659             0.000000  \n",
       "2691         525.461839             0.250000  \n",
       "7492          64.658608             0.000000  \n",
       "1371         651.887762             0.083333  \n",
       "7297         341.938368             0.500000  "
      ]
     },
     "execution_count": 47,
     "metadata": {},
     "output_type": "execute_result"
    }
   ],
   "source": [
    "x_train.head()"
   ]
  },
  {
   "cell_type": "markdown",
   "id": "2df598b4",
   "metadata": {
    "id": "2df598b4"
   },
   "source": [
    "## Pendefinisian Model\n",
    "Bagian ini berisi cell untuk mendefinisikan model sampai kompilasi model.\n",
    "Akan lebih bagus jika didahului dengan penjelasan mengapa memilih\n",
    "arsitektur atau jenis model tertentu.\n",
    "\n",
    "Classification dengan Clustering model\n",
    "*   lustering merupakan metode pengelompokan yang secara otomatis membagi kumpulan data menjadi beberapa kelompok sesuai kesamaan. Dalam algoritma unsupervised learning, ada banyak tipe clustering dengan fungsi dan tujuan yang berbeda.\n",
    "\n",
    "Ada beberapa tipe clustering yaitu:\n",
    "\n",
    "\n",
    "*   Hierarchical Clustering, K-Means Clustering, dan K-NN.\n",
    "*   Principal Component Analysis, Singular Value Decomposition, dan Independent Component Analysis.\n",
    "\n"
   ]
  },
  {
   "cell_type": "code",
   "execution_count": 48,
   "id": "7Xmy9QKBQEyL",
   "metadata": {
    "id": "7Xmy9QKBQEyL"
   },
   "outputs": [],
   "source": [
    "# import package yang dibutuhkan \n",
    "\n",
    "from sklearn.ensemble import RandomForestClassifier\n",
    "from sklearn.naive_bayes import GaussianNB\n",
    "from sklearn.neighbors import KNeighborsClassifier\n",
    "from sklearn import svm\n",
    "from sklearn.cluster import KMeans\n",
    "from sklearn.tree import DecisionTreeClassifier\n",
    "from sklearn.linear_model import LogisticRegression\n",
    "\n",
    "from sklearn.metrics import accuracy_score\n",
    "from sklearn.metrics import classification_report"
   ]
  },
  {
   "cell_type": "code",
   "execution_count": 49,
   "id": "uNtavJbxQFWL",
   "metadata": {
    "colab": {
     "base_uri": "https://localhost:8080/"
    },
    "id": "uNtavJbxQFWL",
    "outputId": "bcefcf92-fdb2-4ec1-d9b3-9b54d004a037"
   },
   "outputs": [
    {
     "name": "stdout",
     "output_type": "stream",
     "text": [
      "RandomForest : 0.8916201117318435\n",
      "Naive Bayes : 0.8379888268156425\n",
      "KNeighbours : 0.8223463687150838\n",
      "SVM : 0.8446927374301676\n",
      "KMeans : 0.00037243947858472997\n",
      "DecisionTreeClassifier : 0.8674115456238362\n",
      "LogisticRegression : 0.8446927374301676\n"
     ]
    },
    {
     "name": "stderr",
     "output_type": "stream",
     "text": [
      "C:\\Users\\Lenovo 120s\\anaconda3\\lib\\site-packages\\sklearn\\linear_model\\_logistic.py:763: ConvergenceWarning: lbfgs failed to converge (status=1):\n",
      "STOP: TOTAL NO. of ITERATIONS REACHED LIMIT.\n",
      "\n",
      "Increase the number of iterations (max_iter) or scale the data as shown in:\n",
      "    https://scikit-learn.org/stable/modules/preprocessing.html\n",
      "Please also refer to the documentation for alternative solver options:\n",
      "    https://scikit-learn.org/stable/modules/linear_model.html#logistic-regression\n",
      "  n_iter_i = _check_optimize_result(\n"
     ]
    }
   ],
   "source": [
    "import pandas as pd\n",
    "classifiers = [['RandomForest :',RandomForestClassifier()], \n",
    "               ['Naive Bayes :', GaussianNB()],\n",
    "               ['KNeighbours :', KNeighborsClassifier()],\n",
    "               ['SVM :', SVC()],\n",
    "               ['KMeans :', KMeans(max_iter = 1000)],\n",
    "               ['DecisionTreeClassifier :', DecisionTreeClassifier()],\n",
    "               ['LogisticRegression :', LogisticRegression(max_iter = 1000)\n",
    "               ]]\n",
    "\n",
    "predictions_df=pd.DataFrame()\n",
    "\n",
    "for name,classifier in classifiers:\n",
    "    classifier = classifier\n",
    "    classifier.fit(x_train, y_train.ravel())\n",
    "    predictions = classifier.predict(x_test)\n",
    "    predictions_df[name.strip(\" :\")] = predictions\n",
    "    print(name, accuracy_score(y_test, predictions))"
   ]
  },
  {
   "cell_type": "code",
   "execution_count": 50,
   "id": "9ek8Anrj0Frq",
   "metadata": {
    "id": "9ek8Anrj0Frq"
   },
   "outputs": [],
   "source": [
    "# improve model dan mencari tahu nilai k yang optimal\n",
    "error = []\n",
    "# Calculating error for K values between 1 and 40\n",
    "for i in range(1, 60):\n",
    "  kn = KNeighborsClassifier(n_neighbors=i)\n",
    "  kn.fit(x_train, y_train)\n",
    "  pred_i = kn.predict(x_test)\n",
    "  error.append(np.mean(pred_i != y_test))"
   ]
  },
  {
   "cell_type": "code",
   "execution_count": 51,
   "id": "44fC2hyK0TYV",
   "metadata": {
    "colab": {
     "base_uri": "https://localhost:8080/",
     "height": 421
    },
    "id": "44fC2hyK0TYV",
    "outputId": "49910170-dcec-4c2a-d37f-ee568019941e"
   },
   "outputs": [
    {
     "data": {
      "text/plain": [
       "Text(0, 0.5, 'Error mean')"
      ]
     },
     "execution_count": 51,
     "metadata": {},
     "output_type": "execute_result"
    },
    {
     "data": {
      "image/png": "[encoded data removed]",
      "text/plain": [
       "<Figure size 864x432 with 1 Axes>"
      ]
     },
     "metadata": {
      "needs_background": "light"
     },
     "output_type": "display_data"
    }
   ],
   "source": [
    "plt.figure(figsize=(12, 6))\n",
    "plt.plot(range(1, 60), error, color='yellowgreen', linestyle='dashed', marker='o', markerfacecolor='black', markersize=10)\n",
    "plt.title('Error Rate K')\n",
    "plt.xlabel('K')\n",
    "plt.ylabel('Error mean')"
   ]
  },
  {
   "cell_type": "code",
   "execution_count": 52,
   "id": "m8HpCLsO0m01",
   "metadata": {
    "colab": {
     "base_uri": "https://localhost:8080/"
    },
    "id": "m8HpCLsO0m01",
    "outputId": "245289e1-aaee-4b8c-e8a1-f8426110eba4"
   },
   "outputs": [
    {
     "name": "stdout",
     "output_type": "stream",
     "text": [
      "RandomForest : 0.8945996275605214\n",
      "Naive Bayes : 0.8379888268156425\n",
      "KNeighbours : 0.8446927374301676\n",
      "SVM : 0.8446927374301676\n",
      "KMeans : 0.0007448789571694599\n",
      "DecisionTreeClassifier : 0.8581005586592179\n",
      "LogisticRegression : 0.8446927374301676\n"
     ]
    },
    {
     "name": "stderr",
     "output_type": "stream",
     "text": [
      "C:\\Users\\Lenovo 120s\\anaconda3\\lib\\site-packages\\sklearn\\linear_model\\_logistic.py:763: ConvergenceWarning: lbfgs failed to converge (status=1):\n",
      "STOP: TOTAL NO. of ITERATIONS REACHED LIMIT.\n",
      "\n",
      "Increase the number of iterations (max_iter) or scale the data as shown in:\n",
      "    https://scikit-learn.org/stable/modules/preprocessing.html\n",
      "Please also refer to the documentation for alternative solver options:\n",
      "    https://scikit-learn.org/stable/modules/linear_model.html#logistic-regression\n",
      "  n_iter_i = _check_optimize_result(\n"
     ]
    }
   ],
   "source": [
    "classifiers = [['RandomForest :',RandomForestClassifier(n_estimators = 1000, random_state = 42)], \n",
    "               ['Naive Bayes :', GaussianNB()],\n",
    "               ['KNeighbours :', KNeighborsClassifier(n_neighbors=59)],\n",
    "               ['SVM :', SVC()],\n",
    "               ['KMeans :', KMeans(max_iter = 1000)],\n",
    "               ['DecisionTreeClassifier :', DecisionTreeClassifier(min_samples_leaf=30, random_state=0)],\n",
    "               ['LogisticRegression :', LogisticRegression(max_iter = 1000)\n",
    "               ]]\n",
    "\n",
    "predictions_df=pd.DataFrame()\n",
    "\n",
    "for name,classifier in classifiers:\n",
    "    classifier = classifier\n",
    "    classifier.fit(x_train, y_train.ravel())\n",
    "    predictions = classifier.predict(x_test)\n",
    "    predictions_df[name.strip(\" :\")] = predictions\n",
    "    print(name, accuracy_score(y_test, predictions))"
   ]
  },
  {
   "cell_type": "code",
   "execution_count": 53,
   "id": "nHk8H6CJ4Jkc",
   "metadata": {
    "id": "nHk8H6CJ4Jkc"
   },
   "outputs": [],
   "source": [
    "# inisialisasi model\n",
    "random_forest = RandomForestClassifier(n_estimators = 1000, random_state = 42)\n",
    "\n",
    "\n"
   ]
  },
  {
   "cell_type": "markdown",
   "id": "35c3b181",
   "metadata": {
    "id": "35c3b181"
   },
   "source": [
    "## Pelatihan Model\n",
    "Cell pada bagian ini hanya berisi code untuk melatih model dan output yang\n",
    "dihasilkan."
   ]
  },
  {
   "cell_type": "code",
   "execution_count": 54,
   "id": "ydmuMpDsVlzV",
   "metadata": {
    "id": "ydmuMpDsVlzV"
   },
   "outputs": [],
   "source": [
    "#RandomForestClassifier\n",
    "# fit model into training data\n",
    "random_forest.fit(x_train,y_train)\n",
    "# get y prediction\n",
    "y_pred_train_random_forest = random_forest.predict(x_train)\n",
    "y_pred_test_random_forest = random_forest.predict(x_test) "
   ]
  },
  {
   "cell_type": "markdown",
   "id": "5c1d63d6",
   "metadata": {
    "id": "5c1d63d6"
   },
   "source": [
    "## Evaluasi Model\n",
    "Pada bagian ini, dilakukan evaluasi model yang harus menunjukkan\n",
    "bagaimana performa model berdasarkan metrics yang dipilih. Hal ini harus\n",
    "dibuktikan dengan visualisasi tren performa dan/atau tingkat kesalahan\n",
    "model"
   ]
  },
  {
   "cell_type": "code",
   "execution_count": 55,
   "id": "-dtkOuRDt-30",
   "metadata": {
    "colab": {
     "base_uri": "https://localhost:8080/"
    },
    "id": "-dtkOuRDt-30",
    "outputId": "57da1628-9265-45c7-d348-6d193a856dbc"
   },
   "outputs": [
    {
     "data": {
      "text/plain": [
       "1.0"
      ]
     },
     "execution_count": 55,
     "metadata": {},
     "output_type": "execute_result"
    }
   ],
   "source": [
    "random_forest.score(x_train, y_train)"
   ]
  },
  {
   "cell_type": "markdown",
   "id": "660c09db",
   "metadata": {
    "id": "660c09db"
   },
   "source": [
    "Di sini kami mendapatkan score pada model logistic regression adalah 0.7565 dan pada model svm adalah 0.754"
   ]
  },
  {
   "cell_type": "markdown",
   "id": "3a206ac0",
   "metadata": {
    "id": "3a206ac0"
   },
   "source": [
    "## Model Inference\n",
    "Bagian ini diisi dengan model inference, di mana model yang sudah kita\n",
    "latih akan dicoba pada data selain data yang sudah tersedia. Data yang\n",
    "dimaksud bisa berupa data buatan oleh student, ataupun data yang ada\n",
    "pada internet."
   ]
  },
  {
   "cell_type": "code",
   "execution_count": 56,
   "id": "GrGbUIAx5QOx",
   "metadata": {
    "colab": {
     "base_uri": "https://localhost:8080/",
     "height": 206
    },
    "id": "GrGbUIAx5QOx",
    "outputId": "88ba3b50-cc8f-412a-fbfe-fd342fd0f460"
   },
   "outputs": [
    {
     "data": {
      "text/html": [
       "<div>\n",
       "<style scoped>\n",
       "    .dataframe tbody tr th:only-of-type {\n",
       "        vertical-align: middle;\n",
       "    }\n",
       "\n",
       "    .dataframe tbody tr th {\n",
       "        vertical-align: top;\n",
       "    }\n",
       "\n",
       "    .dataframe thead th {\n",
       "        text-align: right;\n",
       "    }\n",
       "</style>\n",
       "<table border=\"1\" class=\"dataframe\">\n",
       "  <thead>\n",
       "    <tr style=\"text-align: right;\">\n",
       "      <th></th>\n",
       "      <th>frekuensi_pembaruan_saldo</th>\n",
       "      <th>jumlah_trx_pembelian</th>\n",
       "      <th>limit_kredit</th>\n",
       "      <th>jumlah_pembayaran</th>\n",
       "      <th>frekuensi_uang_muka</th>\n",
       "      <th>masa_berlaku_kartu_kredit</th>\n",
       "    </tr>\n",
       "  </thead>\n",
       "  <tbody>\n",
       "    <tr>\n",
       "      <th>8945</th>\n",
       "      <td>1.000000</td>\n",
       "      <td>6</td>\n",
       "      <td>1000.0</td>\n",
       "      <td>325.594462</td>\n",
       "      <td>0.000000</td>\n",
       "      <td>6</td>\n",
       "    </tr>\n",
       "    <tr>\n",
       "      <th>8946</th>\n",
       "      <td>1.000000</td>\n",
       "      <td>6</td>\n",
       "      <td>1000.0</td>\n",
       "      <td>275.861322</td>\n",
       "      <td>0.000000</td>\n",
       "      <td>6</td>\n",
       "    </tr>\n",
       "    <tr>\n",
       "      <th>8947</th>\n",
       "      <td>0.833333</td>\n",
       "      <td>5</td>\n",
       "      <td>1000.0</td>\n",
       "      <td>81.270775</td>\n",
       "      <td>0.000000</td>\n",
       "      <td>6</td>\n",
       "    </tr>\n",
       "    <tr>\n",
       "      <th>8948</th>\n",
       "      <td>0.833333</td>\n",
       "      <td>0</td>\n",
       "      <td>500.0</td>\n",
       "      <td>52.549959</td>\n",
       "      <td>0.166667</td>\n",
       "      <td>6</td>\n",
       "    </tr>\n",
       "    <tr>\n",
       "      <th>8949</th>\n",
       "      <td>0.666667</td>\n",
       "      <td>23</td>\n",
       "      <td>1200.0</td>\n",
       "      <td>63.165404</td>\n",
       "      <td>0.333333</td>\n",
       "      <td>6</td>\n",
       "    </tr>\n",
       "  </tbody>\n",
       "</table>\n",
       "</div>"
      ],
      "text/plain": [
       "      frekuensi_pembaruan_saldo  jumlah_trx_pembelian  limit_kredit  \\\n",
       "8945                   1.000000                     6        1000.0   \n",
       "8946                   1.000000                     6        1000.0   \n",
       "8947                   0.833333                     5        1000.0   \n",
       "8948                   0.833333                     0         500.0   \n",
       "8949                   0.666667                    23        1200.0   \n",
       "\n",
       "      jumlah_pembayaran  frekuensi_uang_muka  masa_berlaku_kartu_kredit  \n",
       "8945         325.594462             0.000000                          6  \n",
       "8946         275.861322             0.000000                          6  \n",
       "8947          81.270775             0.000000                          6  \n",
       "8948          52.549959             0.166667                          6  \n",
       "8949          63.165404             0.333333                          6  "
      ]
     },
     "execution_count": 56,
     "metadata": {},
     "output_type": "execute_result"
    }
   ],
   "source": [
    "df_prepro.tail()"
   ]
  },
  {
   "cell_type": "code",
   "execution_count": 57,
   "id": "aaf26381",
   "metadata": {
    "colab": {
     "base_uri": "https://localhost:8080/"
    },
    "id": "aaf26381",
    "outputId": "3a9d778b-3270-4578-d6f5-53eb65064a97",
    "scrolled": true
   },
   "outputs": [
    {
     "name": "stdout",
     "output_type": "stream",
     "text": [
      "Hasil Prediksi dengan Random Forest Classifier :  [12]\n"
     ]
    }
   ],
   "source": [
    "print('Hasil Prediksi dengan Random Forest Classifier : ', random_forest.predict([[1.000000, 1, 1000.0, 1000.000000, 0.000000]]))"
   ]
  },
  {
   "cell_type": "markdown",
   "id": "d1a8784f",
   "metadata": {
    "id": "d1a8784f"
   },
   "source": [
    "Dari program diatas maka diperoleh Prediksi [0] yang berarti bahwa besok tidak hujan."
   ]
  },
  {
   "cell_type": "markdown",
   "id": "2f883a21",
   "metadata": {
    "id": "2f883a21"
   },
   "source": [
    "## Pengambilan Kesimpulan\n",
    "Pada bab terakhir ini, harus berisi kesimpulan yang mencerminkan hasil\n",
    "yang didapat dengan dibandingkan dengan objective yang sudah ditulis di\n",
    "bagian pengenalan. "
   ]
  },
  {
   "cell_type": "markdown",
   "id": "9ca0f4cd",
   "metadata": {
    "id": "9ca0f4cd"
   },
   "source": [
    "model clutering masa berlaku kartu kredit dibentuk dengan menggunakan 5 faktor yang mempengaruhi yaitu 'frekuensi_pembaruan_saldo','jumlah_trx_pembelian', 'limit_kredit', 'jumlah_pembayaran', dan 'frekuensi_uang_muka'. Berdasarkan atribut-atribut tersebut model score yang diperoleh sebesar 0.8945 menggunakan model Random Forest."
   ]
  },
  {
   "cell_type": "markdown",
   "id": "95vFVzjwiL7c",
   "metadata": {
    "id": "95vFVzjwiL7c"
   },
   "source": [
    "Kami memilih model Random Forest karena memiliki nilai akurasi tertinggi dibandingkan model lain. Selain itu, Random Forest dipilih karena kuat terhadap outlier. Hal itu terlihat bahwa atribut yang menjadi feature memiliki banyak data pencilan namun model memiliki akurasi yang cukup tinggi. Kelebihan lainnya yaitu model ini memiliki resiko overvitiing yang rendah, berjalan secara efisien pada data yang besar, dan bekerja dengan baik pada data non-linier."
   ]
  },
  {
   "cell_type": "code",
   "execution_count": 58,
   "id": "EGf0ySjK7-3A",
   "metadata": {
    "colab": {
     "base_uri": "https://localhost:8080/",
     "height": 206
    },
    "id": "EGf0ySjK7-3A",
    "outputId": "49ad861d-cfea-4252-f2fb-8d54636e3b0d"
   },
   "outputs": [
    {
     "data": {
      "text/html": [
       "<div>\n",
       "<style scoped>\n",
       "    .dataframe tbody tr th:only-of-type {\n",
       "        vertical-align: middle;\n",
       "    }\n",
       "\n",
       "    .dataframe tbody tr th {\n",
       "        vertical-align: top;\n",
       "    }\n",
       "\n",
       "    .dataframe thead th {\n",
       "        text-align: right;\n",
       "    }\n",
       "</style>\n",
       "<table border=\"1\" class=\"dataframe\">\n",
       "  <thead>\n",
       "    <tr style=\"text-align: right;\">\n",
       "      <th></th>\n",
       "      <th>frekuensi_pembaruan_saldo</th>\n",
       "      <th>jumlah_trx_pembelian</th>\n",
       "      <th>limit_kredit</th>\n",
       "      <th>jumlah_pembayaran</th>\n",
       "      <th>frekuensi_uang_muka</th>\n",
       "    </tr>\n",
       "  </thead>\n",
       "  <tbody>\n",
       "    <tr>\n",
       "      <th>3015</th>\n",
       "      <td>1.0</td>\n",
       "      <td>16</td>\n",
       "      <td>1000.0</td>\n",
       "      <td>363.125659</td>\n",
       "      <td>0.000000</td>\n",
       "    </tr>\n",
       "    <tr>\n",
       "      <th>2691</th>\n",
       "      <td>1.0</td>\n",
       "      <td>0</td>\n",
       "      <td>1800.0</td>\n",
       "      <td>525.461839</td>\n",
       "      <td>0.250000</td>\n",
       "    </tr>\n",
       "    <tr>\n",
       "      <th>7492</th>\n",
       "      <td>1.0</td>\n",
       "      <td>24</td>\n",
       "      <td>1700.0</td>\n",
       "      <td>64.658608</td>\n",
       "      <td>0.000000</td>\n",
       "    </tr>\n",
       "    <tr>\n",
       "      <th>1371</th>\n",
       "      <td>1.0</td>\n",
       "      <td>9</td>\n",
       "      <td>6000.0</td>\n",
       "      <td>651.887762</td>\n",
       "      <td>0.083333</td>\n",
       "    </tr>\n",
       "    <tr>\n",
       "      <th>7297</th>\n",
       "      <td>1.0</td>\n",
       "      <td>0</td>\n",
       "      <td>3000.0</td>\n",
       "      <td>341.938368</td>\n",
       "      <td>0.500000</td>\n",
       "    </tr>\n",
       "  </tbody>\n",
       "</table>\n",
       "</div>"
      ],
      "text/plain": [
       "      frekuensi_pembaruan_saldo  jumlah_trx_pembelian  limit_kredit  \\\n",
       "3015                        1.0                    16        1000.0   \n",
       "2691                        1.0                     0        1800.0   \n",
       "7492                        1.0                    24        1700.0   \n",
       "1371                        1.0                     9        6000.0   \n",
       "7297                        1.0                     0        3000.0   \n",
       "\n",
       "      jumlah_pembayaran  frekuensi_uang_muka  \n",
       "3015         363.125659             0.000000  \n",
       "2691         525.461839             0.250000  \n",
       "7492          64.658608             0.000000  \n",
       "1371         651.887762             0.083333  \n",
       "7297         341.938368             0.500000  "
      ]
     },
     "execution_count": 58,
     "metadata": {},
     "output_type": "execute_result"
    }
   ],
   "source": [
    "x_train.head()"
   ]
  },
  {
   "cell_type": "code",
   "execution_count": 59,
   "id": "55cb8d09",
   "metadata": {
    "id": "55cb8d09"
   },
   "outputs": [
    {
     "data": {
      "text/plain": [
       "['random_forest_joblib']"
      ]
     },
     "execution_count": 59,
     "metadata": {},
     "output_type": "execute_result"
    }
   ],
   "source": [
    "# Menyimpan model Voting Classifier di pickle\n",
    "filename = 'random_forest.sav'\n",
    "pickle.dump(random_forest, open(filename,'wb')) \n",
    "\n",
    "# Menyimpan model Voting Classifier di joblib\n",
    "import joblib\n",
    "joblib.dump(random_forest, 'random_forest_joblib')"
   ]
  }
 ],
 "metadata": {
  "colab": {
   "collapsed_sections": [
    "gXe08ObBRp2K",
    "aa4fd831",
    "puV2QjIvnkUR",
    "JlLGWrt_8OER",
    "272714c3",
    "0u_t_1okmphb",
    "vXvgFgj3MZNR",
    "si194RZiNOgj",
    "Me1bFThiiKo8"
   ],
   "provenance": []
  },
  "kernelspec": {
   "display_name": "Python 3 (ipykernel)",
   "language": "python",
   "name": "python3"
  },
  "language_info": {
   "codemirror_mode": {
    "name": "ipython",
    "version": 3
   },
   "file_extension": ".py",
   "mimetype": "text/x-python",
   "name": "python",
   "nbconvert_exporter": "python",
   "pygments_lexer": "ipython3",
   "version": "3.9.7"
  },
  "toc": {
   "base_numbering": 1,
   "nav_menu": {},
   "number_sections": false,
   "sideBar": true,
   "skip_h1_title": false,
   "title_cell": "Table of Contents",
   "title_sidebar": "Contents",
   "toc_cell": false,
   "toc_position": {},
   "toc_section_display": true,
   "toc_window_display": true
  }
 },
 "nbformat": 4,
 "nbformat_minor": 5
}
